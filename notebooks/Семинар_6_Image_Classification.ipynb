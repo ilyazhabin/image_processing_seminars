{
  "nbformat": 4,
  "nbformat_minor": 0,
  "metadata": {
    "colab": {
      "provenance": [],
      "gpuType": "T4"
    },
    "kernelspec": {
      "name": "python3",
      "display_name": "Python 3"
    },
    "language_info": {
      "name": "python"
    },
    "accelerator": "GPU"
  },
  "cells": [
    {
      "cell_type": "markdown",
      "source": [
        "# Никита Олтян. КомЗр 22-1м"
      ],
      "metadata": {
        "id": "u6jhVTKt0B6_"
      }
    },
    {
      "cell_type": "code",
      "source": [
        "import cv2\n",
        "import numpy as np"
      ],
      "metadata": {
        "id": "7EyO4Nh-0GZj"
      },
      "execution_count": null,
      "outputs": []
    },
    {
      "cell_type": "code",
      "source": [
        "def visualize(images_arr, names, figsize=(16,9)):\n",
        "    if len(images_arr) > 1:\n",
        "        fig, axs = plt.subplots(1, len(images_arr), figsize=figsize)\n",
        "        for i, (image, name) in enumerate(zip(images_arr, names)):\n",
        "            axs[i].imshow(image, cmap='gray')\n",
        "            axs[i].title.set_text(name)\n",
        "            axs[i].axis('off')\n",
        "    else:\n",
        "        fig, ax = plt.subplots(figsize=figsize)\n",
        "        ax.imshow(images_arr[0], cmap='gray')\n",
        "        ax.title.set_text(names[0])\n",
        "        ax.axis('off')\n",
        "    plt.show()"
      ],
      "metadata": {
        "id": "V8MKnIs4grZ0"
      },
      "execution_count": null,
      "outputs": []
    },
    {
      "cell_type": "markdown",
      "source": [
        "# Лабораторная №6 Классификация изображений"
      ],
      "metadata": {
        "id": "gFVTKimRlo4p"
      }
    },
    {
      "cell_type": "markdown",
      "source": [
        "## Часть 1 алгоритмы"
      ],
      "metadata": {
        "id": "PRIFTBndlu_7"
      }
    },
    {
      "cell_type": "markdown",
      "source": [
        "## Задание 1\n",
        "Напишите функцию, которая принимает полутоновое изображение произвольного размера и ядро свертки на вход, а на выходе выдает результат свертки"
      ],
      "metadata": {
        "id": "NC_nOYzdl2tP"
      }
    },
    {
      "cell_type": "code",
      "execution_count": null,
      "metadata": {
        "id": "l_lim-LxlH0t"
      },
      "outputs": [],
      "source": [
        "def Conv2D(image, kernel):\n",
        "    # Применить свертку с заданным ядром\n",
        "    result = cv2.filter2D(image, -1, kernel)\n",
        "    return result"
      ]
    },
    {
      "cell_type": "markdown",
      "source": [
        "## Задание 2\n",
        "\n",
        "Дополните функцию из задания 1 возможностью установить паддинг для обеспечения равных размерностей свертки и изображения и выполнить масштабирование входного изображения в диапазон (0,1)."
      ],
      "metadata": {
        "id": "O-grKtuqmL-H"
      }
    },
    {
      "cell_type": "code",
      "source": [
        "def Conv2D(image, kernel, padding=True, scale=True):\n",
        "    if scale:\n",
        "        # Масштабирование входного изображения в диапазон (0, 1)\n",
        "        image = image.astype(np.float32) / 255.0\n",
        "\n",
        "    if padding:\n",
        "        # Вычислите размеры паддинга на основе размера ядра\n",
        "        kernel_height, kernel_width = kernel.shape\n",
        "        padding_height = kernel_height // 2\n",
        "        padding_width = kernel_width // 2\n",
        "\n",
        "        # Выполните паддинг входного изображения\n",
        "        image = cv2.copyMakeBorder(image, padding_height, padding_height, padding_width, padding_width, cv2.BORDER_CONSTANT, value=0)\n",
        "\n",
        "    # Примените свертку с заданным ядром\n",
        "    result = cv2.filter2D(image, -1, kernel)\n",
        "    return result"
      ],
      "metadata": {
        "id": "__PIswuZmf4L"
      },
      "execution_count": null,
      "outputs": []
    },
    {
      "cell_type": "markdown",
      "source": [
        "##Задание 3\n",
        "Дополните функцию из задания 2 возможностью выполнить активацию результатов свертки с помощью ReLU или Sigmoid"
      ],
      "metadata": {
        "id": "hoj0LzvDmhyP"
      }
    },
    {
      "cell_type": "code",
      "source": [
        "def Conv2D(image, kernel, padding=True, scale=True, activation=None):\n",
        "    if scale:\n",
        "        # Масштабирование входного изображения в диапазон (0, 1)\n",
        "        image = image.astype(np.float32) / 255.0\n",
        "\n",
        "    if padding:\n",
        "        # Вычислите размеры паддинга на основе размера ядра\n",
        "        kernel_height, kernel_width = kernel.shape\n",
        "        padding_height = kernel_height // 2\n",
        "        padding_width = kernel_width // 2\n",
        "\n",
        "        # Выполните паддинг входного изображения\n",
        "        image = cv2.copyMakeBorder(image, padding_height, padding_height, padding_width, padding_width, cv2.BORDER_CONSTANT, value=0)\n",
        "\n",
        "    # Примените свертку с заданным ядром\n",
        "    result = cv2.filter2D(image, -1, kernel)\n",
        "\n",
        "    if activation == \"relu\":\n",
        "        result = np.maximum(result, 0)\n",
        "    elif activation == \"sigmoid\":\n",
        "        result = 1 / (1 + np.exp(-result))\n",
        "\n",
        "    return result"
      ],
      "metadata": {
        "id": "3l87EPwgpEBN"
      },
      "execution_count": null,
      "outputs": []
    },
    {
      "cell_type": "markdown",
      "source": [
        "##Задание 4\n",
        "Реализуйте функцию, которая на вход принимает результат свертки, размер ядра пулинга и тип пулинга (максимальный, минимальный, средний), а на выходе дает результат субдискретизации (пулинга) изображения"
      ],
      "metadata": {
        "id": "DmdwNFctpDWQ"
      }
    },
    {
      "cell_type": "code",
      "source": [
        "def Pool2D(convolved_image, kernel_size, pooling_type=\"max\"):\n",
        "    height, width = convolved_image.shape\n",
        "    kh, kw = kernel_size\n",
        "\n",
        "    pooled_height = height // kh\n",
        "    pooled_width = width // kw\n",
        "\n",
        "    pooled_image = np.zeros((pooled_height, pooled_width), dtype=np.float32)\n",
        "\n",
        "    for i in range(pooled_height):\n",
        "        for j in range(pooled_width):\n",
        "            # Выбор текущего окна\n",
        "            window = convolved_image[i * kh:(i + 1) * kh, j * kw:(j + 1) * kw]\n",
        "\n",
        "            if pooling_type == \"max\":\n",
        "                pooled_image[i, j] = np.max(window)\n",
        "            elif pooling_type == \"min\":\n",
        "                pooled_image[i, j] = np.min(window)\n",
        "            elif pooling_type == \"average\":\n",
        "                pooled_image[i, j] = np.mean(window)\n",
        "\n",
        "    return pooled_image"
      ],
      "metadata": {
        "id": "GixU9f4cpq-V"
      },
      "execution_count": null,
      "outputs": []
    },
    {
      "cell_type": "markdown",
      "source": [
        "##Часть 2 Система распознавания в TensorFlow"
      ],
      "metadata": {
        "id": "blGxjTj9ps2V"
      }
    },
    {
      "cell_type": "markdown",
      "source": [
        "##Задание 1\n",
        "Загрузите датасет CIFAR-10 (https://www.tensorflow.org/api_docs/python/tf/keras/datasets/cifar10/load_data)\n",
        "\n",
        "\n",
        "\n"
      ],
      "metadata": {
        "id": "sbgqc3IppzuZ"
      }
    },
    {
      "cell_type": "code",
      "source": [
        "from tensorflow import keras\n",
        "from tensorflow.keras import utils\n",
        "import matplotlib.pyplot as plt"
      ],
      "metadata": {
        "id": "GG7Zvhi12Oxr"
      },
      "execution_count": null,
      "outputs": []
    },
    {
      "cell_type": "code",
      "source": [
        "(x_train, y_train), (x_test, y_test) = keras.datasets.cifar10.load_data()"
      ],
      "metadata": {
        "id": "YHaJtJOhqYPV"
      },
      "execution_count": null,
      "outputs": []
    },
    {
      "cell_type": "code",
      "source": [
        "y_train = utils.to_categorical(y_train, 10)\n",
        "y_test = utils.to_categorical(y_test, 10)"
      ],
      "metadata": {
        "id": "zyI7t9HA2Jut"
      },
      "execution_count": null,
      "outputs": []
    },
    {
      "cell_type": "markdown",
      "source": [
        "##Задание 2\n",
        "Визуализируйте несколько изображений из разных классов"
      ],
      "metadata": {
        "id": "24AFhNUPqem6"
      }
    },
    {
      "cell_type": "code",
      "source": [
        "def visualize(images_arr, names, figsize=(16,9)):\n",
        "    if len(images_arr) > 1:\n",
        "        fig, axs = plt.subplots(1, len(images_arr), figsize=figsize)\n",
        "        for i, (image, name) in enumerate(zip(images_arr, names)):\n",
        "            axs[i].imshow(image)\n",
        "            axs[i].title.set_text(name)\n",
        "            axs[i].axis('off')\n",
        "    else:\n",
        "        fig, ax = plt.subplots(figsize=figsize)\n",
        "        ax.imshow(images_arr[0])\n",
        "        ax.title.set_text(names[0])\n",
        "        ax.axis('off')\n",
        "    plt.show()"
      ],
      "metadata": {
        "id": "0n31tjtwqzcj"
      },
      "execution_count": null,
      "outputs": []
    },
    {
      "cell_type": "code",
      "source": [
        "images = []\n",
        "names = []\n",
        "for i in range(5):\n",
        "    names.append(f'Class {i}')\n",
        "    img_idx = np.where(y_train.argmax(axis=1) == i)[0][0]\n",
        "    img = x_train[img_idx]\n",
        "    images.append(img)\n",
        "\n",
        "visualize(images, names)"
      ],
      "metadata": {
        "colab": {
          "base_uri": "https://localhost:8080/",
          "height": 273
        },
        "id": "dIUWKvJi3fus",
        "outputId": "f221fa12-b93e-44d6-a703-9fa21ae02e90"
      },
      "execution_count": null,
      "outputs": [
        {
          "output_type": "display_data",
          "data": {
            "text/plain": [
              "<Figure size 1600x900 with 5 Axes>"
            ],
            "image/png": "[encoded data removed]"
          },
          "metadata": {}
        }
      ]
    },
    {
      "cell_type": "markdown",
      "source": [
        "##Задание 3\n",
        "\n",
        "Сравните объемы обучающих и тестовых данных"
      ],
      "metadata": {
        "id": "B9XlAUlfq1LS"
      }
    },
    {
      "cell_type": "code",
      "source": [
        "print('Train data:')\n",
        "print(f'X train shape: {x_train.shape}')\n",
        "print(f'y train shape: {y_train.shape}')\n",
        "print('\\t')\n",
        "print('Test data:')\n",
        "print(f'X test shape: {x_test.shape}')\n",
        "print(f'y test shape: {y_test.shape}')"
      ],
      "metadata": {
        "id": "CWFKr_5Wq0j4",
        "colab": {
          "base_uri": "https://localhost:8080/"
        },
        "outputId": "8166a7f8-cdd7-4ec6-fd4b-43395b0383bf"
      },
      "execution_count": null,
      "outputs": [
        {
          "output_type": "stream",
          "name": "stdout",
          "text": [
            "Train data:\n",
            "X train shape: (50000, 32, 32, 3)\n",
            "y train shape: (50000, 10)\n",
            "\t\n",
            "Test data:\n",
            "X test shape: (10000, 32, 32, 3)\n",
            "y test shape: (10000, 10)\n"
          ]
        }
      ]
    },
    {
      "cell_type": "markdown",
      "source": [
        "##Задание 4\n",
        "Реализуйте обучение и оценку (https://scikit-learn.org/stable/modules/generated/sklearn.metrics.classification_report.html) простой модели машинного обучения из библиотеки ScikitLearn, например, классификатора на базе опорных векторов (https://scikit-learn.org/stable/modules/generated/sklearn.svm.SVC.html)"
      ],
      "metadata": {
        "id": "9XgsdSH1rKW1"
      }
    },
    {
      "cell_type": "code",
      "source": [
        "from sklearn.svm import SVC\n",
        "from sklearn.pipeline import make_pipeline\n",
        "from sklearn.preprocessing import StandardScaler\n",
        "from sklearn.metrics import classification_report"
      ],
      "metadata": {
        "id": "tuVGAlGD8vyw"
      },
      "execution_count": null,
      "outputs": []
    },
    {
      "cell_type": "code",
      "source": [
        "def squeeze(data):\n",
        "    squeezed_data = np.reshape(data, (data.shape[0], -1))\n",
        "    return squeezed_data\n",
        "\n",
        "def unsqueeze(data):\n",
        "    nrow, ncol, ncolors = 32, 32, 3\n",
        "    reshaped_data = data.reshape((data.shape[0], nrow, ncol, ncolors))\n",
        "    return reshaped_data"
      ],
      "metadata": {
        "id": "I4fRdHTtXbbY"
      },
      "execution_count": null,
      "outputs": []
    },
    {
      "cell_type": "code",
      "source": [
        "(x_train, y_train), (x_test, y_test) = keras.datasets.cifar10.load_data()"
      ],
      "metadata": {
        "id": "Ajz792a5Ygk5"
      },
      "execution_count": null,
      "outputs": []
    },
    {
      "cell_type": "code",
      "source": [
        "x_train = squeeze(x_train)\n",
        "x_test = squeeze(x_test)"
      ],
      "metadata": {
        "id": "ZfDeWIYrX25Z"
      },
      "execution_count": null,
      "outputs": []
    },
    {
      "cell_type": "code",
      "source": [
        "clf = make_pipeline(\n",
        "    StandardScaler(),\n",
        "    SVC(kernel=\"linear\")\n",
        ")\n",
        "clf.fit(x_train[:2000], y_train[:2000])"
      ],
      "metadata": {
        "id": "BHTK1ip1rsHy",
        "colab": {
          "base_uri": "https://localhost:8080/",
          "height": 227
        },
        "outputId": "1874733f-33c2-4047-9d36-a0bac2feb08e"
      },
      "execution_count": null,
      "outputs": [
        {
          "output_type": "stream",
          "name": "stderr",
          "text": [
            "/usr/local/lib/python3.10/dist-packages/sklearn/utils/validation.py:1143: DataConversionWarning: A column-vector y was passed when a 1d array was expected. Please change the shape of y to (n_samples, ), for example using ravel().\n",
            "  y = column_or_1d(y, warn=True)\n"
          ]
        },
        {
          "output_type": "execute_result",
          "data": {
            "text/plain": [
              "Pipeline(steps=[('standardscaler', StandardScaler()),\n",
              "                ('svc', SVC(kernel='linear'))])"
            ],
            "text/html": [
              "<style>#sk-container-id-1 {color: black;background-color: white;}#sk-container-id-1 pre{padding: 0;}#sk-container-id-1 div.sk-toggleable {background-color: white;}#sk-container-id-1 label.sk-toggleable__label {cursor: pointer;display: block;width: 100%;margin-bottom: 0;padding: 0.3em;box-sizing: border-box;text-align: center;}#sk-container-id-1 label.sk-toggleable__label-arrow:before {content: \"▸\";float: left;margin-right: 0.25em;color: #696969;}#sk-container-id-1 label.sk-toggleable__label-arrow:hover:before {color: black;}#sk-container-id-1 div.sk-estimator:hover label.sk-toggleable__label-arrow:before {color: black;}#sk-container-id-1 div.sk-toggleable__content {max-height: 0;max-width: 0;overflow: hidden;text-align: left;background-color: #f0f8ff;}#sk-container-id-1 div.sk-toggleable__content pre {margin: 0.2em;color: black;border-radius: 0.25em;background-color: #f0f8ff;}#sk-container-id-1 input.sk-toggleable__control:checked~div.sk-toggleable__content {max-height: 200px;max-width: 100%;overflow: auto;}#sk-container-id-1 input.sk-toggleable__control:checked~label.sk-toggleable__label-arrow:before {content: \"▾\";}#sk-container-id-1 div.sk-estimator input.sk-toggleable__control:checked~label.sk-toggleable__label {background-color: #d4ebff;}#sk-container-id-1 div.sk-label input.sk-toggleable__control:checked~label.sk-toggleable__label {background-color: #d4ebff;}#sk-container-id-1 input.sk-hidden--visually {border: 0;clip: rect(1px 1px 1px 1px);clip: rect(1px, 1px, 1px, 1px);height: 1px;margin: -1px;overflow: hidden;padding: 0;position: absolute;width: 1px;}#sk-container-id-1 div.sk-estimator {font-family: monospace;background-color: #f0f8ff;border: 1px dotted black;border-radius: 0.25em;box-sizing: border-box;margin-bottom: 0.5em;}#sk-container-id-1 div.sk-estimator:hover {background-color: #d4ebff;}#sk-container-id-1 div.sk-parallel-item::after {content: \"\";width: 100%;border-bottom: 1px solid gray;flex-grow: 1;}#sk-container-id-1 div.sk-label:hover label.sk-toggleable__label {background-color: #d4ebff;}#sk-container-id-1 div.sk-serial::before {content: \"\";position: absolute;border-left: 1px solid gray;box-sizing: border-box;top: 0;bottom: 0;left: 50%;z-index: 0;}#sk-container-id-1 div.sk-serial {display: flex;flex-direction: column;align-items: center;background-color: white;padding-right: 0.2em;padding-left: 0.2em;position: relative;}#sk-container-id-1 div.sk-item {position: relative;z-index: 1;}#sk-container-id-1 div.sk-parallel {display: flex;align-items: stretch;justify-content: center;background-color: white;position: relative;}#sk-container-id-1 div.sk-item::before, #sk-container-id-1 div.sk-parallel-item::before {content: \"\";position: absolute;border-left: 1px solid gray;box-sizing: border-box;top: 0;bottom: 0;left: 50%;z-index: -1;}#sk-container-id-1 div.sk-parallel-item {display: flex;flex-direction: column;z-index: 1;position: relative;background-color: white;}#sk-container-id-1 div.sk-parallel-item:first-child::after {align-self: flex-end;width: 50%;}#sk-container-id-1 div.sk-parallel-item:last-child::after {align-self: flex-start;width: 50%;}#sk-container-id-1 div.sk-parallel-item:only-child::after {width: 0;}#sk-container-id-1 div.sk-dashed-wrapped {border: 1px dashed gray;margin: 0 0.4em 0.5em 0.4em;box-sizing: border-box;padding-bottom: 0.4em;background-color: white;}#sk-container-id-1 div.sk-label label {font-family: monospace;font-weight: bold;display: inline-block;line-height: 1.2em;}#sk-container-id-1 div.sk-label-container {text-align: center;}#sk-container-id-1 div.sk-container {/* jupyter's `normalize.less` sets `[hidden] { display: none; }` but bootstrap.min.css set `[hidden] { display: none !important; }` so we also need the `!important` here to be able to override the default hidden behavior on the sphinx rendered scikit-learn.org. See: https://github.com/scikit-learn/scikit-learn/issues/21755 */display: inline-block !important;position: relative;}#sk-container-id-1 div.sk-text-repr-fallback {display: none;}</style><div id=\"sk-container-id-1\" class=\"sk-top-container\"><div class=\"sk-text-repr-fallback\"><pre>Pipeline(steps=[(&#x27;standardscaler&#x27;, StandardScaler()),\n",
              "                (&#x27;svc&#x27;, SVC(kernel=&#x27;linear&#x27;))])</pre><b>In a Jupyter environment, please rerun this cell to show the HTML representation or trust the notebook. <br />On GitHub, the HTML representation is unable to render, please try loading this page with nbviewer.org.</b></div><div class=\"sk-container\" hidden><div class=\"sk-item sk-dashed-wrapped\"><div class=\"sk-label-container\"><div class=\"sk-label sk-toggleable\"><input class=\"sk-toggleable__control sk-hidden--visually\" id=\"sk-estimator-id-1\" type=\"checkbox\" ><label for=\"sk-estimator-id-1\" class=\"sk-toggleable__label sk-toggleable__label-arrow\">Pipeline</label><div class=\"sk-toggleable__content\"><pre>Pipeline(steps=[(&#x27;standardscaler&#x27;, StandardScaler()),\n",
              "                (&#x27;svc&#x27;, SVC(kernel=&#x27;linear&#x27;))])</pre></div></div></div><div class=\"sk-serial\"><div class=\"sk-item\"><div class=\"sk-estimator sk-toggleable\"><input class=\"sk-toggleable__control sk-hidden--visually\" id=\"sk-estimator-id-2\" type=\"checkbox\" ><label for=\"sk-estimator-id-2\" class=\"sk-toggleable__label sk-toggleable__label-arrow\">StandardScaler</label><div class=\"sk-toggleable__content\"><pre>StandardScaler()</pre></div></div></div><div class=\"sk-item\"><div class=\"sk-estimator sk-toggleable\"><input class=\"sk-toggleable__control sk-hidden--visually\" id=\"sk-estimator-id-3\" type=\"checkbox\" ><label for=\"sk-estimator-id-3\" class=\"sk-toggleable__label sk-toggleable__label-arrow\">SVC</label><div class=\"sk-toggleable__content\"><pre>SVC(kernel=&#x27;linear&#x27;)</pre></div></div></div></div></div></div></div>"
            ]
          },
          "metadata": {},
          "execution_count": 12
        }
      ]
    },
    {
      "cell_type": "code",
      "source": [
        "y_pred = clf.predict(x_test)\n",
        "print(classification_report(y_test, y_pred))"
      ],
      "metadata": {
        "id": "caoMWRcM-J4R",
        "colab": {
          "base_uri": "https://localhost:8080/"
        },
        "outputId": "78ac3097-78c6-45d5-ee39-bc4a5b035684"
      },
      "execution_count": null,
      "outputs": [
        {
          "output_type": "stream",
          "name": "stdout",
          "text": [
            "              precision    recall  f1-score   support\n",
            "\n",
            "           0       0.29      0.39      0.33      1000\n",
            "           1       0.41      0.35      0.38      1000\n",
            "           2       0.21      0.27      0.24      1000\n",
            "           3       0.21      0.24      0.22      1000\n",
            "           4       0.23      0.29      0.26      1000\n",
            "           5       0.23      0.18      0.20      1000\n",
            "           6       0.34      0.29      0.31      1000\n",
            "           7       0.40      0.27      0.32      1000\n",
            "           8       0.40      0.42      0.41      1000\n",
            "           9       0.40      0.30      0.34      1000\n",
            "\n",
            "    accuracy                           0.30     10000\n",
            "   macro avg       0.31      0.30      0.30     10000\n",
            "weighted avg       0.31      0.30      0.30     10000\n",
            "\n"
          ]
        }
      ]
    },
    {
      "cell_type": "markdown",
      "source": [
        "##Задание 5\n",
        "Используя фреймворк TensorFlow, постройте полносвязную ИНС (https://www.tensorflow.org/api_docs/python/tf/keras/layers/Dense) для классификации изображений CIFAR и обучите ее. Выполните оценку точности классификации."
      ],
      "metadata": {
        "id": "wnO4EiDZrKfk"
      }
    },
    {
      "cell_type": "code",
      "source": [
        "import tensorflow as tf\n",
        "from tensorflow.keras.models import Sequential\n",
        "from tensorflow.keras.preprocessing.image import ImageDataGenerator\n",
        "from tensorflow.keras.layers import *\n",
        "from tensorflow.keras.optimizers import Adam\n",
        "from tensorflow.keras import utils"
      ],
      "metadata": {
        "id": "5qpPKk8Vbake"
      },
      "execution_count": null,
      "outputs": []
    },
    {
      "cell_type": "code",
      "source": [
        "(x_train, y_train), (x_test, y_test) = keras.datasets.cifar10.load_data()\n",
        "\n",
        "y_train = utils.to_categorical(y_train, 10)\n",
        "y_test = utils.to_categorical(y_test, 10)"
      ],
      "metadata": {
        "id": "UEFvLeZ5bfgi"
      },
      "execution_count": null,
      "outputs": []
    },
    {
      "cell_type": "code",
      "source": [
        "RESCALE = 1/255\n",
        "VAL_SPLIT = 0.2\n",
        "\n",
        "train_datagen = ImageDataGenerator(\n",
        "    rescale=RESCALE,\n",
        "    featurewise_center=True,\n",
        "    featurewise_std_normalization=True,\n",
        "    horizontal_flip=True,\n",
        "    validation_split=VAL_SPLIT\n",
        ")\n",
        "\n",
        "test_datagen = ImageDataGenerator(\n",
        "    rescale=RESCALE\n",
        ")\n",
        "\n",
        "# Fitting\n",
        "train_datagen.fit(x_train)\n",
        "test_datagen.fit(x_test)"
      ],
      "metadata": {
        "id": "WguJEN_vrJ3W"
      },
      "execution_count": null,
      "outputs": []
    },
    {
      "cell_type": "code",
      "source": [
        "model_dense = Sequential([\n",
        "    Input(shape=(32, 32, 3)),\n",
        "    Flatten(),\n",
        "    Dense(512, activation='relu'),\n",
        "    Dense(256, activation='relu'),\n",
        "    Dense(128, activation='relu'),\n",
        "    Dense(y_train.shape[1], activation='softmax'),\n",
        "])\n",
        "\n",
        "\n",
        "model_dense.compile(loss='categorical_crossentropy', optimizer='adam', metrics=['accuracy'])\n",
        "model_dense.summary()"
      ],
      "metadata": {
        "colab": {
          "base_uri": "https://localhost:8080/"
        },
        "id": "HJj75kySbooP",
        "outputId": "fcfd70fe-f35c-4943-a4de-8ab950211087"
      },
      "execution_count": null,
      "outputs": [
        {
          "output_type": "stream",
          "name": "stdout",
          "text": [
            "Model: \"sequential_1\"\n",
            "_________________________________________________________________\n",
            " Layer (type)                Output Shape              Param #   \n",
            "=================================================================\n",
            " flatten_1 (Flatten)         (None, 3072)              0         \n",
            "                                                                 \n",
            " dense_4 (Dense)             (None, 512)               1573376   \n",
            "                                                                 \n",
            " dense_5 (Dense)             (None, 256)               131328    \n",
            "                                                                 \n",
            " dense_6 (Dense)             (None, 128)               32896     \n",
            "                                                                 \n",
            " dense_7 (Dense)             (None, 10)                1290      \n",
            "                                                                 \n",
            "=================================================================\n",
            "Total params: 1738890 (6.63 MB)\n",
            "Trainable params: 1738890 (6.63 MB)\n",
            "Non-trainable params: 0 (0.00 Byte)\n",
            "_________________________________________________________________\n"
          ]
        }
      ]
    },
    {
      "cell_type": "code",
      "source": [
        "EPOCHS = 10\n",
        "\n",
        "train_datagen.fit(x_train)\n",
        "model_dense.fit(\n",
        "    train_datagen.flow(x_train, y_train, batch_size=64, subset='training'),\n",
        "    validation_data=train_datagen.flow(x_train, y_train, batch_size=64, subset='validation'),\n",
        "    steps_per_epoch=len(x_train) / 128,\n",
        "    epochs=EPOCHS\n",
        ")"
      ],
      "metadata": {
        "colab": {
          "base_uri": "https://localhost:8080/"
        },
        "id": "gyzoXyG-b8cS",
        "outputId": "611b8102-a56b-4328-8b0a-92fa2f4978a3"
      },
      "execution_count": null,
      "outputs": [
        {
          "output_type": "stream",
          "name": "stdout",
          "text": [
            "Epoch 1/10\n",
            "390/390 [==============================] - 6s 12ms/step - loss: 1.8421 - accuracy: 0.3601 - val_loss: 1.6465 - val_accuracy: 0.4122\n",
            "Epoch 2/10\n",
            "390/390 [==============================] - 6s 15ms/step - loss: 1.6212 - accuracy: 0.4284 - val_loss: 1.5803 - val_accuracy: 0.4448\n",
            "Epoch 3/10\n",
            "390/390 [==============================] - 5s 12ms/step - loss: 1.5397 - accuracy: 0.4540 - val_loss: 1.5297 - val_accuracy: 0.4569\n",
            "Epoch 4/10\n",
            "390/390 [==============================] - 7s 17ms/step - loss: 1.4798 - accuracy: 0.4797 - val_loss: 1.5168 - val_accuracy: 0.4654\n",
            "Epoch 5/10\n",
            "390/390 [==============================] - 5s 12ms/step - loss: 1.4368 - accuracy: 0.4891 - val_loss: 1.4670 - val_accuracy: 0.4859\n",
            "Epoch 6/10\n",
            "390/390 [==============================] - 5s 14ms/step - loss: 1.3953 - accuracy: 0.5085 - val_loss: 1.4422 - val_accuracy: 0.4983\n",
            "Epoch 7/10\n",
            "390/390 [==============================] - 5s 12ms/step - loss: 1.3596 - accuracy: 0.5174 - val_loss: 1.4658 - val_accuracy: 0.4875\n",
            "Epoch 8/10\n",
            "390/390 [==============================] - 6s 14ms/step - loss: 1.3252 - accuracy: 0.5316 - val_loss: 1.4425 - val_accuracy: 0.4939\n",
            "Epoch 9/10\n",
            "390/390 [==============================] - 5s 13ms/step - loss: 1.2895 - accuracy: 0.5431 - val_loss: 1.4071 - val_accuracy: 0.5194\n",
            "Epoch 10/10\n",
            "390/390 [==============================] - 6s 14ms/step - loss: 1.2669 - accuracy: 0.5511 - val_loss: 1.4240 - val_accuracy: 0.5086\n"
          ]
        },
        {
          "output_type": "execute_result",
          "data": {
            "text/plain": [
              "<keras.src.callbacks.History at 0x7c87302d6b00>"
            ]
          },
          "metadata": {},
          "execution_count": 14
        }
      ]
    },
    {
      "cell_type": "code",
      "source": [
        "y_pred = model_dense.predict(x_test)\n",
        "y_pred_argmax = np.argmax(y_pred, axis=1)\n",
        "y_test_argmax = np.argmax(y_test, axis=1)\n",
        "print(classification_report(y_test_argmax, y_pred_argmax))"
      ],
      "metadata": {
        "colab": {
          "base_uri": "https://localhost:8080/"
        },
        "id": "D6DKzdiJcS07",
        "outputId": "7cb51670-644c-4ce1-c846-6ad26e7080ef"
      },
      "execution_count": null,
      "outputs": [
        {
          "output_type": "stream",
          "name": "stdout",
          "text": [
            "313/313 [==============================] - 1s 2ms/step\n",
            "              precision    recall  f1-score   support\n",
            "\n",
            "           0       0.27      0.73      0.39      1000\n",
            "           1       0.90      0.07      0.13      1000\n",
            "           2       0.50      0.10      0.16      1000\n",
            "           3       0.25      0.05      0.08      1000\n",
            "           4       0.76      0.01      0.03      1000\n",
            "           5       0.21      0.62      0.32      1000\n",
            "           6       0.78      0.01      0.01      1000\n",
            "           7       0.27      0.68      0.39      1000\n",
            "           8       0.49      0.56      0.52      1000\n",
            "           9       0.53      0.09      0.16      1000\n",
            "\n",
            "    accuracy                           0.29     10000\n",
            "   macro avg       0.50      0.29      0.22     10000\n",
            "weighted avg       0.50      0.29      0.22     10000\n",
            "\n"
          ]
        }
      ]
    },
    {
      "cell_type": "markdown",
      "source": [
        "##Задание 6\n",
        "Используя фреймворк TensorFlow, постройте сверточную ИНС для классификации изображений CIFAR и обучите ее. Выполните оценку точности классификации.\n",
        "Рекомендуется использовать сочетание слоев свертки (https://www.tensorflow.org/api_docs/python/tf/keras/layers/Conv2D) и пулинга (https://www.tensorflow.org/api_docs/python/tf/keras/layers/GlobalMaxPooling2D или https://www.tensorflow.org/api_docs/python/tf/keras/layers/MaxPooling2D)  до 5 штук, а также исследовать слои нормализации пакетов (https://www.tensorflow.org/api_docs/python/tf/keras/layers/BatchNormalization)."
      ],
      "metadata": {
        "id": "C2V_8BWZsCil"
      }
    },
    {
      "cell_type": "code",
      "source": [
        "model_conv = Sequential([\n",
        "    BatchNormalization(input_shape=(32, 32, 3)),\n",
        "    Conv2D(32, (3, 3), padding='same', activation='relu'),\n",
        "    Conv2D(32, (3, 3), padding='same', activation='relu'),\n",
        "    BatchNormalization(),\n",
        "    Conv2D(32, (3, 3), padding='same', activation='relu'),\n",
        "    MaxPooling2D(pool_size=(2, 2)),\n",
        "\n",
        "    BatchNormalization(),\n",
        "    Conv2D(64, (3, 3), padding='same', activation='relu'),\n",
        "    Conv2D(64, (3, 3), padding='same', activation='relu'),\n",
        "    BatchNormalization(),\n",
        "    Conv2D(64, (3, 3), padding='same', activation='relu'),\n",
        "    MaxPooling2D(pool_size=(2, 2)),\n",
        "    Dropout(0.25),\n",
        "\n",
        "    BatchNormalization(),\n",
        "    Conv2D(128, (3, 3), padding='same', activation='relu'),\n",
        "    Conv2D(128, (3, 3), padding='same', activation='relu'),\n",
        "    MaxPooling2D(pool_size=(2, 2)),\n",
        "    Dropout(0.25),\n",
        "\n",
        "    BatchNormalization(),\n",
        "    Conv2D(256, (3, 3), padding='same', activation='relu'),\n",
        "    Conv2D(256, (3, 3), padding='same', activation='relu'),\n",
        "    MaxPooling2D(pool_size=(2, 2)),\n",
        "    Dropout(0.25),\n",
        "\n",
        "    Flatten(),\n",
        "    Dense(512, activation='relu'),\n",
        "    Dropout(0.25),\n",
        "    Dense(128, activation='relu'),\n",
        "    Dense(y_train.shape[1], activation='softmax'),\n",
        "])\n",
        "\n",
        "\n",
        "model_conv.compile(loss='categorical_crossentropy', optimizer='adam', metrics=['accuracy'])\n",
        "model_conv.summary()"
      ],
      "metadata": {
        "id": "2gEKoXAjsyFV",
        "colab": {
          "base_uri": "https://localhost:8080/"
        },
        "outputId": "3f17a596-65a5-43e2-b74f-e0feb2984342"
      },
      "execution_count": null,
      "outputs": [
        {
          "output_type": "stream",
          "name": "stdout",
          "text": [
            "Model: \"sequential_2\"\n",
            "_________________________________________________________________\n",
            " Layer (type)                Output Shape              Param #   \n",
            "=================================================================\n",
            " batch_normalization (Batch  (None, 32, 32, 3)         12        \n",
            " Normalization)                                                  \n",
            "                                                                 \n",
            " conv2d (Conv2D)             (None, 32, 32, 32)        896       \n",
            "                                                                 \n",
            " conv2d_1 (Conv2D)           (None, 32, 32, 32)        9248      \n",
            "                                                                 \n",
            " batch_normalization_1 (Bat  (None, 32, 32, 32)        128       \n",
            " chNormalization)                                                \n",
            "                                                                 \n",
            " conv2d_2 (Conv2D)           (None, 32, 32, 32)        9248      \n",
            "                                                                 \n",
            " max_pooling2d (MaxPooling2  (None, 16, 16, 32)        0         \n",
            " D)                                                              \n",
            "                                                                 \n",
            " batch_normalization_2 (Bat  (None, 16, 16, 32)        128       \n",
            " chNormalization)                                                \n",
            "                                                                 \n",
            " conv2d_3 (Conv2D)           (None, 16, 16, 64)        18496     \n",
            "                                                                 \n",
            " conv2d_4 (Conv2D)           (None, 16, 16, 64)        36928     \n",
            "                                                                 \n",
            " batch_normalization_3 (Bat  (None, 16, 16, 64)        256       \n",
            " chNormalization)                                                \n",
            "                                                                 \n",
            " conv2d_5 (Conv2D)           (None, 16, 16, 64)        36928     \n",
            "                                                                 \n",
            " max_pooling2d_1 (MaxPoolin  (None, 8, 8, 64)          0         \n",
            " g2D)                                                            \n",
            "                                                                 \n",
            " dropout (Dropout)           (None, 8, 8, 64)          0         \n",
            "                                                                 \n",
            " batch_normalization_4 (Bat  (None, 8, 8, 64)          256       \n",
            " chNormalization)                                                \n",
            "                                                                 \n",
            " conv2d_6 (Conv2D)           (None, 8, 8, 128)         73856     \n",
            "                                                                 \n",
            " conv2d_7 (Conv2D)           (None, 8, 8, 128)         147584    \n",
            "                                                                 \n",
            " max_pooling2d_2 (MaxPoolin  (None, 4, 4, 128)         0         \n",
            " g2D)                                                            \n",
            "                                                                 \n",
            " dropout_1 (Dropout)         (None, 4, 4, 128)         0         \n",
            "                                                                 \n",
            " batch_normalization_5 (Bat  (None, 4, 4, 128)         512       \n",
            " chNormalization)                                                \n",
            "                                                                 \n",
            " conv2d_8 (Conv2D)           (None, 4, 4, 256)         295168    \n",
            "                                                                 \n",
            " conv2d_9 (Conv2D)           (None, 4, 4, 256)         590080    \n",
            "                                                                 \n",
            " max_pooling2d_3 (MaxPoolin  (None, 2, 2, 256)         0         \n",
            " g2D)                                                            \n",
            "                                                                 \n",
            " dropout_2 (Dropout)         (None, 2, 2, 256)         0         \n",
            "                                                                 \n",
            " flatten_2 (Flatten)         (None, 1024)              0         \n",
            "                                                                 \n",
            " dense_8 (Dense)             (None, 512)               524800    \n",
            "                                                                 \n",
            " dropout_3 (Dropout)         (None, 512)               0         \n",
            "                                                                 \n",
            " dense_9 (Dense)             (None, 128)               65664     \n",
            "                                                                 \n",
            " dense_10 (Dense)            (None, 10)                1290      \n",
            "                                                                 \n",
            "=================================================================\n",
            "Total params: 1811478 (6.91 MB)\n",
            "Trainable params: 1810832 (6.91 MB)\n",
            "Non-trainable params: 646 (2.52 KB)\n",
            "_________________________________________________________________\n"
          ]
        }
      ]
    },
    {
      "cell_type": "code",
      "source": [
        "EPOCHS = 10\n",
        "\n",
        "train_datagen.fit(x_train)\n",
        "model_conv.fit(\n",
        "    train_datagen.flow(x_train, y_train, batch_size=64, subset='training'),\n",
        "    validation_data=train_datagen.flow(x_train, y_train, batch_size=64, subset='validation'),\n",
        "    steps_per_epoch=len(x_train) / 128,\n",
        "    epochs=EPOCHS\n",
        ")"
      ],
      "metadata": {
        "colab": {
          "base_uri": "https://localhost:8080/"
        },
        "id": "T0-AMKfXdMky",
        "outputId": "83f037b3-d9b6-4354-d67d-0eb391efc202"
      },
      "execution_count": null,
      "outputs": [
        {
          "output_type": "stream",
          "name": "stdout",
          "text": [
            "Epoch 1/10\n",
            "390/390 [==============================] - 21s 25ms/step - loss: 1.6637 - accuracy: 0.3751 - val_loss: 1.6895 - val_accuracy: 0.3935\n",
            "Epoch 2/10\n",
            "390/390 [==============================] - 9s 24ms/step - loss: 1.2553 - accuracy: 0.5533 - val_loss: 1.1363 - val_accuracy: 0.6033\n",
            "Epoch 3/10\n",
            "390/390 [==============================] - 10s 25ms/step - loss: 1.0497 - accuracy: 0.6310 - val_loss: 1.1682 - val_accuracy: 0.6276\n",
            "Epoch 4/10\n",
            "390/390 [==============================] - 9s 22ms/step - loss: 0.9191 - accuracy: 0.6784 - val_loss: 0.8719 - val_accuracy: 0.7021\n",
            "Epoch 5/10\n",
            "390/390 [==============================] - 9s 23ms/step - loss: 0.8391 - accuracy: 0.7119 - val_loss: 0.8350 - val_accuracy: 0.7187\n",
            "Epoch 6/10\n",
            "390/390 [==============================] - 11s 27ms/step - loss: 0.7653 - accuracy: 0.7364 - val_loss: 0.7747 - val_accuracy: 0.7324\n",
            "Epoch 7/10\n",
            "390/390 [==============================] - 10s 26ms/step - loss: 0.7117 - accuracy: 0.7606 - val_loss: 0.7103 - val_accuracy: 0.7552\n",
            "Epoch 8/10\n",
            "390/390 [==============================] - 9s 22ms/step - loss: 0.6802 - accuracy: 0.7708 - val_loss: 0.6963 - val_accuracy: 0.7656\n",
            "Epoch 9/10\n",
            "390/390 [==============================] - 9s 23ms/step - loss: 0.6400 - accuracy: 0.7811 - val_loss: 0.6408 - val_accuracy: 0.7826\n",
            "Epoch 10/10\n",
            "390/390 [==============================] - 9s 24ms/step - loss: 0.6143 - accuracy: 0.7900 - val_loss: 0.6256 - val_accuracy: 0.7855\n"
          ]
        },
        {
          "output_type": "execute_result",
          "data": {
            "text/plain": [
              "<keras.src.callbacks.History at 0x7c86f5b68550>"
            ]
          },
          "metadata": {},
          "execution_count": 17
        }
      ]
    },
    {
      "cell_type": "code",
      "source": [
        "y_pred = model_conv.predict(x_test)\n",
        "y_pred_argmax = np.argmax(y_pred, axis=1)\n",
        "y_test_argmax = np.argmax(y_test, axis=1)\n",
        "print(classification_report(y_test_argmax, y_pred_argmax))"
      ],
      "metadata": {
        "colab": {
          "base_uri": "https://localhost:8080/"
        },
        "id": "TE4f5TCwdMeP",
        "outputId": "706cd746-5d75-493b-874e-83911386a61a"
      },
      "execution_count": null,
      "outputs": [
        {
          "output_type": "stream",
          "name": "stdout",
          "text": [
            "313/313 [==============================] - 1s 3ms/step\n",
            "              precision    recall  f1-score   support\n",
            "\n",
            "           0       0.13      0.96      0.23      1000\n",
            "           1       0.62      0.43      0.51      1000\n",
            "           2       0.40      0.00      0.00      1000\n",
            "           3       0.33      0.01      0.01      1000\n",
            "           4       0.00      0.00      0.00      1000\n",
            "           5       0.91      0.05      0.09      1000\n",
            "           6       0.00      0.00      0.00      1000\n",
            "           7       0.50      0.38      0.43      1000\n",
            "           8       0.62      0.21      0.31      1000\n",
            "           9       0.55      0.36      0.44      1000\n",
            "\n",
            "    accuracy                           0.24     10000\n",
            "   macro avg       0.41      0.24      0.20     10000\n",
            "weighted avg       0.41      0.24      0.20     10000\n",
            "\n"
          ]
        },
        {
          "output_type": "stream",
          "name": "stderr",
          "text": [
            "/usr/local/lib/python3.10/dist-packages/sklearn/metrics/_classification.py:1344: UndefinedMetricWarning: Precision and F-score are ill-defined and being set to 0.0 in labels with no predicted samples. Use `zero_division` parameter to control this behavior.\n",
            "  _warn_prf(average, modifier, msg_start, len(result))\n",
            "/usr/local/lib/python3.10/dist-packages/sklearn/metrics/_classification.py:1344: UndefinedMetricWarning: Precision and F-score are ill-defined and being set to 0.0 in labels with no predicted samples. Use `zero_division` parameter to control this behavior.\n",
            "  _warn_prf(average, modifier, msg_start, len(result))\n",
            "/usr/local/lib/python3.10/dist-packages/sklearn/metrics/_classification.py:1344: UndefinedMetricWarning: Precision and F-score are ill-defined and being set to 0.0 in labels with no predicted samples. Use `zero_division` parameter to control this behavior.\n",
            "  _warn_prf(average, modifier, msg_start, len(result))\n"
          ]
        }
      ]
    },
    {
      "cell_type": "markdown",
      "source": [
        "##Задание 7\n",
        "Визуализируйте несколько прогнозов разных моделей"
      ],
      "metadata": {
        "id": "BBwSrGjTszVP"
      }
    },
    {
      "cell_type": "code",
      "source": [
        "images = []\n",
        "names = []\n",
        "\n",
        "for idx in np.random.randint(10000, size=5):\n",
        "    img = x_test[idx]\n",
        "    y_pred = model_dense.predict(np.array([img]))\n",
        "    y_pred_argmax = np.argmax(y_pred, axis=1)\n",
        "    y_test_argmax = np.argmax(y_test[idx])\n",
        "    images.append(img)\n",
        "    names.append(f'Dense. Target {y_test_argmax}. Predict: {y_pred_argmax}')\n",
        "\n",
        "visualize(images, names)\n",
        "\n",
        "\n",
        "images = []\n",
        "names = []\n",
        "\n",
        "for idx in np.random.randint(10000, size=5):\n",
        "    img = x_test[idx]\n",
        "    y_pred = model_conv.predict(np.array([img]))\n",
        "    y_pred_argmax = np.argmax(y_pred, axis=1)\n",
        "    y_test_argmax = np.argmax(y_test[idx])\n",
        "    images.append(img)\n",
        "    names.append(f'Conv. Target {y_test_argmax}. Predict: {y_pred_argmax}')\n",
        "\n",
        "visualize(images, names)"
      ],
      "metadata": {
        "colab": {
          "base_uri": "https://localhost:8080/",
          "height": 703
        },
        "id": "cEu2QLOVd9Kd",
        "outputId": "1a6d56da-ac7b-4d4e-b129-3322a497edbd"
      },
      "execution_count": null,
      "outputs": [
        {
          "output_type": "stream",
          "name": "stdout",
          "text": [
            "1/1 [==============================] - 0s 19ms/step\n",
            "1/1 [==============================] - 0s 19ms/step\n",
            "1/1 [==============================] - 0s 18ms/step\n",
            "1/1 [==============================] - 0s 19ms/step\n",
            "1/1 [==============================] - 0s 17ms/step\n"
          ]
        },
        {
          "output_type": "display_data",
          "data": {
            "text/plain": [
              "<Figure size 1600x900 with 5 Axes>"
            ],
            "image/png": "[encoded data removed]"
          },
          "metadata": {}
        },
        {
          "output_type": "stream",
          "name": "stdout",
          "text": [
            "1/1 [==============================] - 0s 18ms/step\n",
            "1/1 [==============================] - 0s 21ms/step\n",
            "1/1 [==============================] - 0s 20ms/step\n",
            "1/1 [==============================] - 0s 20ms/step\n",
            "1/1 [==============================] - 0s 21ms/step\n"
          ]
        },
        {
          "output_type": "display_data",
          "data": {
            "text/plain": [
              "<Figure size 1600x900 with 5 Axes>"
            ],
            "image/png": "[encoded data removed]"
          },
          "metadata": {}
        }
      ]
    },
    {
      "cell_type": "markdown",
      "source": [
        "##Задание 8**\n",
        "Обучите модель трансферного обучения, например, VGG-19 (https://www.kaggle.com/code/givkashi/transfer-learning-vgg19) и выполните ее оценку"
      ],
      "metadata": {
        "id": "yEL10DXGs9GY"
      }
    },
    {
      "cell_type": "code",
      "source": [
        "from tensorflow.keras.applications.vgg19 import VGG19\n",
        "from keras.metrics import Recall,Precision\n",
        "from tensorflow.keras.callbacks import EarlyStopping, ModelCheckpoint"
      ],
      "metadata": {
        "id": "Qsh5hs2x_DuR"
      },
      "execution_count": null,
      "outputs": []
    },
    {
      "cell_type": "code",
      "source": [
        "base_model = VGG19(input_shape=(32, 32, 3), include_top=False, weights=\"imagenet\")\n",
        "\n",
        "for layer in base_model.layers:\n",
        "    layer.trainable=False"
      ],
      "metadata": {
        "id": "AdA-mLVytQwS",
        "colab": {
          "base_uri": "https://localhost:8080/"
        },
        "outputId": "c6900e5b-6f3d-41c0-894a-64e49a77156a"
      },
      "execution_count": null,
      "outputs": [
        {
          "output_type": "stream",
          "name": "stdout",
          "text": [
            "Downloading data from https://storage.googleapis.com/tensorflow/keras-applications/vgg19/vgg19_weights_tf_dim_ordering_tf_kernels_notop.h5\n",
            "80134624/80134624 [==============================] - 4s 0us/step\n"
          ]
        }
      ]
    },
    {
      "cell_type": "code",
      "source": [
        "# Building Model\n",
        "model_transfer = Sequential([\n",
        "    base_model,\n",
        "    Dropout(0.5),\n",
        "    Flatten(),\n",
        "    BatchNormalization(),\n",
        "    Dense(512,kernel_initializer='he_uniform'),\n",
        "    BatchNormalization(),\n",
        "    Activation('relu'),\n",
        "    Dense(y_train.shape[1], activation='softmax')\n",
        "])"
      ],
      "metadata": {
        "id": "8cnUXpd2_F77"
      },
      "execution_count": null,
      "outputs": []
    },
    {
      "cell_type": "code",
      "source": [
        "OPT = keras.optimizers.Adam(learning_rate=0.001)\n",
        "\n",
        "model_transfer.compile(loss='categorical_crossentropy',\n",
        "              metrics=['accuracy', Precision(), Recall()],\n",
        "              optimizer=OPT)"
      ],
      "metadata": {
        "id": "nNuA03yP_VW8"
      },
      "execution_count": null,
      "outputs": []
    },
    {
      "cell_type": "code",
      "source": [
        "filepath = './best_weights.hdf5'\n",
        "\n",
        "earlystopping = EarlyStopping(monitor = 'val_accuracy', mode = 'max', patience = 5, verbose = 1)\n",
        "checkpoint    = ModelCheckpoint(filepath, monitor = 'val_accuracy', mode='max', save_best_only=True, verbose = 1)\n",
        "\n",
        "callback_list = [earlystopping, checkpoint]"
      ],
      "metadata": {
        "id": "VcNsdMhi_ysA"
      },
      "execution_count": null,
      "outputs": []
    },
    {
      "cell_type": "code",
      "source": [
        "model_history = model_transfer.fit(train_datagen.flow(x_train, y_train, batch_size=64, subset='training'),\n",
        "    validation_data=train_datagen.flow(x_train, y_train, batch_size=64, subset='validation'),\n",
        "    epochs = 10,\n",
        "    callbacks = callback_list,\n",
        "    verbose = 1)"
      ],
      "metadata": {
        "colab": {
          "base_uri": "https://localhost:8080/"
        },
        "id": "HJtZBDKH_7dS",
        "outputId": "b9bf302f-22b7-423e-e1ca-5975dfb77bb0"
      },
      "execution_count": null,
      "outputs": [
        {
          "output_type": "stream",
          "name": "stdout",
          "text": [
            "Epoch 1/10\n",
            "622/625 [============================>.] - ETA: 0s - loss: 1.4916 - accuracy: 0.4786 - precision: 0.6324 - recall: 0.3073\n",
            "Epoch 1: val_accuracy improved from -inf to 0.59420, saving model to ./best_weights.hdf5\n",
            "625/625 [==============================] - 23s 21ms/step - loss: 1.4917 - accuracy: 0.4787 - precision: 0.6326 - recall: 0.3074 - val_loss: 1.1702 - val_accuracy: 0.5942 - val_precision: 0.7513 - val_recall: 0.4094\n",
            "Epoch 2/10\n"
          ]
        },
        {
          "output_type": "stream",
          "name": "stderr",
          "text": [
            "/usr/local/lib/python3.10/dist-packages/keras/src/engine/training.py:3000: UserWarning: You are saving your model as an HDF5 file via `model.save()`. This file format is considered legacy. We recommend using instead the native Keras format, e.g. `model.save('my_model.keras')`.\n",
            "  saving_api.save_model(\n"
          ]
        },
        {
          "output_type": "stream",
          "name": "stdout",
          "text": [
            "622/625 [============================>.] - ETA: 0s - loss: 1.3487 - accuracy: 0.5219 - precision: 0.6642 - recall: 0.3512\n",
            "Epoch 2: val_accuracy improved from 0.59420 to 0.60610, saving model to ./best_weights.hdf5\n",
            "625/625 [==============================] - 13s 21ms/step - loss: 1.3486 - accuracy: 0.5220 - precision: 0.6644 - recall: 0.3512 - val_loss: 1.1370 - val_accuracy: 0.6061 - val_precision: 0.7606 - val_recall: 0.4178\n",
            "Epoch 3/10\n",
            "622/625 [============================>.] - ETA: 0s - loss: 1.3013 - accuracy: 0.5429 - precision: 0.6918 - recall: 0.3709\n",
            "Epoch 3: val_accuracy improved from 0.60610 to 0.61290, saving model to ./best_weights.hdf5\n",
            "625/625 [==============================] - 13s 20ms/step - loss: 1.3014 - accuracy: 0.5429 - precision: 0.6919 - recall: 0.3710 - val_loss: 1.1113 - val_accuracy: 0.6129 - val_precision: 0.7579 - val_recall: 0.4417\n",
            "Epoch 4/10\n",
            "625/625 [==============================] - ETA: 0s - loss: 1.2692 - accuracy: 0.5529 - precision: 0.6990 - recall: 0.3856\n",
            "Epoch 4: val_accuracy improved from 0.61290 to 0.62150, saving model to ./best_weights.hdf5\n",
            "625/625 [==============================] - 13s 20ms/step - loss: 1.2692 - accuracy: 0.5529 - precision: 0.6990 - recall: 0.3856 - val_loss: 1.0907 - val_accuracy: 0.6215 - val_precision: 0.7739 - val_recall: 0.4500\n",
            "Epoch 5/10\n",
            "623/625 [============================>.] - ETA: 0s - loss: 1.2473 - accuracy: 0.5583 - precision: 0.7052 - recall: 0.3965\n",
            "Epoch 5: val_accuracy improved from 0.62150 to 0.62290, saving model to ./best_weights.hdf5\n",
            "625/625 [==============================] - 13s 21ms/step - loss: 1.2476 - accuracy: 0.5582 - precision: 0.7054 - recall: 0.3964 - val_loss: 1.0856 - val_accuracy: 0.6229 - val_precision: 0.7675 - val_recall: 0.4522\n",
            "Epoch 6/10\n",
            "625/625 [==============================] - ETA: 0s - loss: 1.2257 - accuracy: 0.5645 - precision: 0.7069 - recall: 0.4035\n",
            "Epoch 6: val_accuracy improved from 0.62290 to 0.62930, saving model to ./best_weights.hdf5\n",
            "625/625 [==============================] - 13s 21ms/step - loss: 1.2257 - accuracy: 0.5645 - precision: 0.7069 - recall: 0.4035 - val_loss: 1.0717 - val_accuracy: 0.6293 - val_precision: 0.7863 - val_recall: 0.4617\n",
            "Epoch 7/10\n",
            "625/625 [==============================] - ETA: 0s - loss: 1.2091 - accuracy: 0.5743 - precision: 0.7165 - recall: 0.4150\n",
            "Epoch 7: val_accuracy did not improve from 0.62930\n",
            "625/625 [==============================] - 12s 20ms/step - loss: 1.2091 - accuracy: 0.5743 - precision: 0.7165 - recall: 0.4150 - val_loss: 1.0668 - val_accuracy: 0.6275 - val_precision: 0.7712 - val_recall: 0.4591\n",
            "Epoch 8/10\n",
            "623/625 [============================>.] - ETA: 0s - loss: 1.1966 - accuracy: 0.5780 - precision: 0.7152 - recall: 0.4218\n",
            "Epoch 8: val_accuracy improved from 0.62930 to 0.63200, saving model to ./best_weights.hdf5\n",
            "625/625 [==============================] - 13s 20ms/step - loss: 1.1967 - accuracy: 0.5778 - precision: 0.7154 - recall: 0.4217 - val_loss: 1.0585 - val_accuracy: 0.6320 - val_precision: 0.7758 - val_recall: 0.4699\n",
            "Epoch 9/10\n",
            "624/625 [============================>.] - ETA: 0s - loss: 1.1843 - accuracy: 0.5827 - precision: 0.7214 - recall: 0.4292\n",
            "Epoch 9: val_accuracy improved from 0.63200 to 0.64010, saving model to ./best_weights.hdf5\n",
            "625/625 [==============================] - 13s 20ms/step - loss: 1.1846 - accuracy: 0.5827 - precision: 0.7214 - recall: 0.4293 - val_loss: 1.0387 - val_accuracy: 0.6401 - val_precision: 0.7891 - val_recall: 0.4728\n",
            "Epoch 10/10\n",
            "622/625 [============================>.] - ETA: 0s - loss: 1.1690 - accuracy: 0.5860 - precision: 0.7228 - recall: 0.4335\n",
            "Epoch 10: val_accuracy did not improve from 0.64010\n",
            "625/625 [==============================] - 13s 20ms/step - loss: 1.1690 - accuracy: 0.5861 - precision: 0.7228 - recall: 0.4335 - val_loss: 1.0490 - val_accuracy: 0.6374 - val_precision: 0.7784 - val_recall: 0.4768\n"
          ]
        }
      ]
    },
    {
      "cell_type": "code",
      "source": [
        "plt.plot(model_history.history['accuracy'])\n",
        "plt.plot(model_history.history['val_accuracy'])\n",
        "plt.title('model accuracy')\n",
        "plt.ylabel('accuracy')\n",
        "plt.xlabel('epoch')\n",
        "plt.legend(['train', 'validation'], loc='lower right')\n",
        "plt.show()\n",
        "\n",
        "plt.plot(model_history.history['loss'])\n",
        "plt.plot(model_history.history['val_loss'])\n",
        "plt.title('train set loss')\n",
        "\n",
        "plt.ylabel('loss')\n",
        "plt.xlabel('epoch')\n",
        "plt.legend(['train', 'validation'], loc='upper right')\n",
        "plt.show()\n",
        "\n",
        "plt.plot(model_history.history['precision'])\n",
        "plt.plot(model_history.history['val_precision'])\n",
        "plt.title(' precision')\n",
        "plt.ylabel('precision')\n",
        "plt.xlabel('epoch')\n",
        "plt.legend(['train', 'validation'], loc='upper right')\n",
        "plt.show()\n",
        "\n",
        "\n",
        "plt.plot(model_history.history['recall'])\n",
        "plt.plot(model_history.history['val_recall'])\n",
        "plt.title(' recall')\n",
        "plt.ylabel('recall')\n",
        "plt.xlabel('epoch')\n",
        "plt.legend(['train', 'validation'], loc='upper right')\n",
        "plt.show()"
      ],
      "metadata": {
        "colab": {
          "base_uri": "https://localhost:8080/",
          "height": 1000
        },
        "id": "z5YLlNBDANJA",
        "outputId": "9a14e341-9cda-4a7d-d299-7361604bffde"
      },
      "execution_count": null,
      "outputs": [
        {
          "output_type": "display_data",
          "data": {
            "text/plain": [
              "<Figure size 640x480 with 1 Axes>"
            ],
            "image/png": "[encoded data removed]"
          },
          "metadata": {}
        },
        {
          "output_type": "display_data",
          "data": {
            "text/plain": [
              "<Figure size 640x480 with 1 Axes>"
            ],
            "image/png": "[encoded data removed]"
          },
          "metadata": {}
        },
        {
          "output_type": "display_data",
          "data": {
            "text/plain": [
              "<Figure size 640x480 with 1 Axes>"
            ],
            "image/png": "[encoded data removed]"
          },
          "metadata": {}
        },
        {
          "output_type": "display_data",
          "data": {
            "text/plain": [
              "<Figure size 640x480 with 1 Axes>"
            ],
            "image/png": "[encoded data removed]"
          },
          "metadata": {}
        }
      ]
    },
    {
      "cell_type": "markdown",
      "source": [
        "##Часть 3 Классификация изображений в PyTorch"
      ],
      "metadata": {
        "id": "i4JUGwQ2tR94"
      }
    },
    {
      "cell_type": "markdown",
      "source": [
        "##Задание 1\n",
        "Используя фреймворк PyTorch (https://pytorch.org/tutorials/recipes/recipes/defining_a_neural_network.html) реализуйте полносвязную ИНС для классификации CIFAR-10. Выполните оценку точности модели после ее обучения."
      ],
      "metadata": {
        "id": "LgnVjDtStWxF"
      }
    },
    {
      "cell_type": "code",
      "source": [
        "import torch\n",
        "import torch.nn as nn\n",
        "import torch.optim as optim\n",
        "import torchvision\n",
        "import torchvision.transforms as transforms\n",
        "from torch.utils.data import DataLoader\n",
        "import torchvision.datasets as datasets"
      ],
      "metadata": {
        "id": "vCxeOLhztvzY"
      },
      "execution_count": null,
      "outputs": []
    },
    {
      "cell_type": "code",
      "source": [
        "# Гиперпараметры\n",
        "batch_size = 64\n",
        "learning_rate = 0.001\n",
        "num_epochs = 10"
      ],
      "metadata": {
        "id": "IWw4cy96B8U6"
      },
      "execution_count": null,
      "outputs": []
    },
    {
      "cell_type": "code",
      "source": [
        "# Преобразования для загрузки данных и их нормализации\n",
        "transform = transforms.Compose([transforms.ToTensor(), transforms.Normalize((0.5, 0.5, 0.5), (0.5, 0.5, 0.5))])\n",
        "\n",
        "train_dataset = datasets.CIFAR10(root='./data', train=True, transform=transform, download=True)\n",
        "train_loader = DataLoader(train_dataset, batch_size=batch_size, shuffle=True)\n",
        "\n",
        "test_dataset = datasets.CIFAR10(root='./data', train=False, transform=transform, download=True)\n",
        "test_loader = DataLoader(test_dataset, batch_size=batch_size, shuffle=False)"
      ],
      "metadata": {
        "id": "zEhkf97aB7zG",
        "colab": {
          "base_uri": "https://localhost:8080/"
        },
        "outputId": "3f4016d2-3b1d-4ed6-918a-ee780368cdcf"
      },
      "execution_count": null,
      "outputs": [
        {
          "output_type": "stream",
          "name": "stdout",
          "text": [
            "Downloading https://www.cs.toronto.edu/~kriz/cifar-10-python.tar.gz to ./data/cifar-10-python.tar.gz\n"
          ]
        },
        {
          "output_type": "stream",
          "name": "stderr",
          "text": [
            "100%|██████████| 170498071/170498071 [00:02<00:00, 70106268.18it/s]\n"
          ]
        },
        {
          "output_type": "stream",
          "name": "stdout",
          "text": [
            "Extracting ./data/cifar-10-python.tar.gz to ./data\n",
            "Files already downloaded and verified\n"
          ]
        }
      ]
    },
    {
      "cell_type": "code",
      "source": [
        "class FC_Net(nn.Module):\n",
        "    def __init__(self):\n",
        "        super(FC_Net, self).__init__()\n",
        "        self.fc1 = nn.Linear(32 * 32 * 3, 512)\n",
        "        self.fc2 = nn.Linear(512, 256)\n",
        "        self.fc3 = nn.Linear(256, 10)\n",
        "\n",
        "    def forward(self, x):\n",
        "        x = x.view(x.size(0), -1)\n",
        "        x = torch.relu(self.fc1(x))\n",
        "        x = torch.relu(self.fc2(x))\n",
        "        x = self.fc3(x)\n",
        "        return x"
      ],
      "metadata": {
        "id": "xj_VzHp4FIn3"
      },
      "execution_count": null,
      "outputs": []
    },
    {
      "cell_type": "code",
      "source": [
        "fc_net = FC_Net()\n",
        "criterion = nn.CrossEntropyLoss()\n",
        "optimizer = optim.Adam(fc_net.parameters(), lr=learning_rate)"
      ],
      "metadata": {
        "id": "bB1wY5AGFNeu"
      },
      "execution_count": null,
      "outputs": []
    },
    {
      "cell_type": "code",
      "source": [
        "for epoch in range(5):\n",
        "    running_loss = 0.0\n",
        "    for i, data in enumerate(train_loader, 0):\n",
        "        inputs, labels = data\n",
        "        optimizer.zero_grad()\n",
        "        outputs = fc_net(inputs)\n",
        "        loss = criterion(outputs, labels)\n",
        "        loss.backward()\n",
        "        optimizer.step()\n",
        "        running_loss += loss.item()\n",
        "        if i % 200 == 199:\n",
        "            print(f'[{epoch + 1}, {i + 1}] loss: {running_loss / 200:.3f}')\n",
        "            running_loss = 0.0"
      ],
      "metadata": {
        "id": "ErgydGh3FN4x",
        "colab": {
          "base_uri": "https://localhost:8080/"
        },
        "outputId": "6f094f87-c5dd-473c-9546-76babc725b5b"
      },
      "execution_count": null,
      "outputs": [
        {
          "output_type": "stream",
          "name": "stdout",
          "text": [
            "[1, 200] loss: 1.434\n",
            "[1, 400] loss: 1.432\n",
            "[1, 600] loss: 1.421\n",
            "[2, 200] loss: 1.310\n",
            "[2, 400] loss: 1.316\n",
            "[2, 600] loss: 1.330\n",
            "[3, 200] loss: 1.220\n",
            "[3, 400] loss: 1.215\n",
            "[3, 600] loss: 1.250\n",
            "[4, 200] loss: 1.118\n",
            "[4, 400] loss: 1.132\n",
            "[4, 600] loss: 1.162\n",
            "[5, 200] loss: 1.028\n",
            "[5, 400] loss: 1.054\n",
            "[5, 600] loss: 1.066\n"
          ]
        }
      ]
    },
    {
      "cell_type": "code",
      "source": [
        "correct = 0\n",
        "total = 0\n",
        "with torch.no_grad():\n",
        "    for data in test_loader:\n",
        "        images, labels = data\n",
        "        outputs = fc_net(images)\n",
        "        _, predicted = torch.max(outputs.data, 1)\n",
        "        total += labels.size(0)\n",
        "        correct += (predicted == labels).sum().item()\n",
        "\n",
        "print(f'Точность сети на тестовых изображениях: {100 * correct / total:.2f}%')"
      ],
      "metadata": {
        "id": "UfUkEX9KGBUK",
        "colab": {
          "base_uri": "https://localhost:8080/"
        },
        "outputId": "c64edc53-2aa7-47b6-f360-8dca9060e5ee"
      },
      "execution_count": null,
      "outputs": [
        {
          "output_type": "stream",
          "name": "stdout",
          "text": [
            "Точность сети на тестовых изображениях: 53.56%\n"
          ]
        }
      ]
    },
    {
      "cell_type": "markdown",
      "source": [
        "##Задание 2\n",
        "Используя фреймворк PyTorch (https://pytorch.org/tutorials/recipes/recipes/defining_a_neural_network.html) реализуйте сверточную ИНС с пулингом для классификации CIFAR-10. Настройте слои нормализации и регуляризации DropOut. Выполните оценку точности модели после ее обучения."
      ],
      "metadata": {
        "id": "GZqpNunNtw3R"
      }
    },
    {
      "cell_type": "code",
      "source": [
        "class ConvNet(nn.Module):\n",
        "    def __init__(self):\n",
        "        super(ConvNet, self).__init__()\n",
        "        self.conv1 = nn.Conv2d(32, 32, 3, padding=1)\n",
        "        self.bn1 = nn.BatchNorm2d(32)\n",
        "        self.conv2 = nn.Conv2d(32, 64, 3, padding=1)\n",
        "        self.bn2 = nn.BatchNorm2d(64)\n",
        "        self.fc1 = nn.Linear(64 * 32 * 3, 512)\n",
        "        self.fc2 = nn.Linear(512, 256)\n",
        "        self.fc3 = nn.Linear(256, 10)\n",
        "        self.dropout = nn.Dropout(0.5)\n",
        "\n",
        "    def forward(self, x):\n",
        "        x = torch.relu(self.bn1(self.conv1(x)))\n",
        "        x = torch.relu(self.bn2(self.conv2(x)))\n",
        "        x = x.view(x.size(0), -1)\n",
        "        x = torch.relu(self.fc1(x))\n",
        "        x = self.dropout(x)\n",
        "        x = torch.relu(self.fc2(x))\n",
        "        x = self.fc3(x)\n",
        "        return x"
      ],
      "metadata": {
        "id": "9v7i6xpHCNBY"
      },
      "execution_count": null,
      "outputs": []
    },
    {
      "cell_type": "code",
      "source": [
        "conv_net = ConvNet()\n",
        "criterion = nn.CrossEntropyLoss()\n",
        "optimizer = optim.Adam(conv_net.parameters(), lr=learning_rate)"
      ],
      "metadata": {
        "id": "xlETAP4KGhlJ"
      },
      "execution_count": null,
      "outputs": []
    },
    {
      "cell_type": "code",
      "source": [
        "for epoch in range(5):\n",
        "    running_loss = 0.0\n",
        "    for i, data in enumerate(train_loader, 0):\n",
        "        inputs, labels = data\n",
        "        inputs = inputs.permute(0, 2, 3, 1)\n",
        "        optimizer.zero_grad()\n",
        "        outputs = conv_net(inputs)\n",
        "        loss = criterion(outputs, labels)\n",
        "        loss.backward()\n",
        "        optimizer.step()\n",
        "        running_loss += loss.item()\n",
        "        if i % 200 == 199:\n",
        "            print(f'[{epoch + 1}, {i + 1}] loss: {running_loss / 200:.3f}')\n",
        "            running_loss = 0.0"
      ],
      "metadata": {
        "id": "CtlqSeGBGL_M",
        "colab": {
          "base_uri": "https://localhost:8080/"
        },
        "outputId": "f41edd91-be32-49f2-f07c-dc3d7a514040"
      },
      "execution_count": null,
      "outputs": [
        {
          "output_type": "stream",
          "name": "stdout",
          "text": [
            "[1, 200] loss: 1.889\n",
            "[1, 400] loss: 1.697\n",
            "[1, 600] loss: 1.615\n",
            "[2, 200] loss: 1.508\n",
            "[2, 400] loss: 1.494\n",
            "[2, 600] loss: 1.464\n",
            "[3, 200] loss: 1.388\n",
            "[3, 400] loss: 1.385\n",
            "[3, 600] loss: 1.371\n",
            "[4, 200] loss: 1.300\n",
            "[4, 400] loss: 1.290\n",
            "[4, 600] loss: 1.294\n",
            "[5, 200] loss: 1.217\n",
            "[5, 400] loss: 1.213\n",
            "[5, 600] loss: 1.238\n"
          ]
        }
      ]
    },
    {
      "cell_type": "code",
      "source": [
        "correct = 0\n",
        "total = 0\n",
        "with torch.no_grad():\n",
        "    for data in test_loader:\n",
        "        images, labels = data\n",
        "        images = images.permute(0, 2, 3, 1)\n",
        "        outputs = conv_net(images)\n",
        "        _, predicted = torch.max(outputs.data, 1)\n",
        "        total += labels.size(0)\n",
        "        correct += (predicted == labels).sum().item()\n",
        "\n",
        "print(f'Точность сети на тестовых изображениях: {100 * correct / total:.2f}%')"
      ],
      "metadata": {
        "id": "yNCMKztxGW8P",
        "colab": {
          "base_uri": "https://localhost:8080/"
        },
        "outputId": "a74b75d9-4d7b-4551-9792-2f4aa2ae0fc3"
      },
      "execution_count": null,
      "outputs": [
        {
          "output_type": "stream",
          "name": "stdout",
          "text": [
            "Точность сети на тестовых изображениях: 54.12%\n"
          ]
        }
      ]
    },
    {
      "cell_type": "markdown",
      "source": [
        "##Задание 3\n",
        "Выведите несколько изображений и прогнозных лейблов для разных моделей."
      ],
      "metadata": {
        "id": "FmF6u0oYt8ZI"
      }
    },
    {
      "cell_type": "code",
      "source": [
        "inputs, classes = next(iter(train_loader))"
      ],
      "metadata": {
        "id": "IOpGRaipfQF7"
      },
      "execution_count": null,
      "outputs": []
    },
    {
      "cell_type": "code",
      "source": [
        "images = []\n",
        "names = []\n",
        "\n",
        "pred_fc_net = fc_net(inputs).detach().numpy()\n",
        "pred_fc_net = np.argmax(pred_fc_net, axis=1)\n",
        "\n",
        "inputs_conv = inputs.permute(0, 2, 3, 1)\n",
        "pred_conv_net = conv_net(inputs_conv).detach().numpy()\n",
        "pred_conv_net = np.argmax(pred_conv_net, axis=1)\n",
        "\n",
        "for idx in range(5, 10):\n",
        "    img = np.transpose(inputs[idx], (1, 2, 0))\n",
        "    images.append(img)\n",
        "    names.append(f'Dense: {classes[idx]}/{pred_fc_net[idx]}. Conv: {classes[idx]}/{pred_conv_net[idx]}.')\n",
        "\n",
        "visualize(images, names)"
      ],
      "metadata": {
        "id": "PTAmvKi3t-G_",
        "colab": {
          "base_uri": "https://localhost:8080/",
          "height": 327
        },
        "outputId": "cfb8d919-2eb2-4b85-a46d-4f41e8bf58e8"
      },
      "execution_count": null,
      "outputs": [
        {
          "output_type": "stream",
          "name": "stderr",
          "text": [
            "WARNING:matplotlib.image:Clipping input data to the valid range for imshow with RGB data ([0..1] for floats or [0..255] for integers).\n",
            "WARNING:matplotlib.image:Clipping input data to the valid range for imshow with RGB data ([0..1] for floats or [0..255] for integers).\n",
            "WARNING:matplotlib.image:Clipping input data to the valid range for imshow with RGB data ([0..1] for floats or [0..255] for integers).\n",
            "WARNING:matplotlib.image:Clipping input data to the valid range for imshow with RGB data ([0..1] for floats or [0..255] for integers).\n",
            "WARNING:matplotlib.image:Clipping input data to the valid range for imshow with RGB data ([0..1] for floats or [0..255] for integers).\n"
          ]
        },
        {
          "output_type": "display_data",
          "data": {
            "text/plain": [
              "<Figure size 1600x900 with 5 Axes>"
            ],
            "image/png": "[encoded data removed]"
          },
          "metadata": {}
        }
      ]
    },
    {
      "cell_type": "markdown",
      "source": [
        "##Задание 4*\n",
        "Выполните трансферное обучение в фреймворке PyTorch, например, для сети ResNet18 (https://pytorch.org/tutorials/beginner/transfer_learning_tutorial.html). Выполните оценку качества модели"
      ],
      "metadata": {
        "id": "tD4KyYd_uEbg"
      }
    },
    {
      "cell_type": "code",
      "source": [
        "from torchvision import models"
      ],
      "metadata": {
        "id": "w4kiD5hULNtS"
      },
      "execution_count": null,
      "outputs": []
    },
    {
      "cell_type": "code",
      "source": [
        "batch_size = 64\n",
        "learning_rate = 0.001\n",
        "num_epochs = 10\n",
        "\n",
        "transform = transforms.Compose([transforms.Resize((224, 224)),  # ResNet-18 ожидает 224x224 изображения\n",
        "                                transforms.ToTensor(),\n",
        "                                transforms.Normalize((0.485, 0.456, 0.406), (0.229, 0.224, 0.225))])"
      ],
      "metadata": {
        "id": "PnZwKnONF9OK"
      },
      "execution_count": null,
      "outputs": []
    },
    {
      "cell_type": "code",
      "source": [
        "train_dataset = torchvision.datasets.CIFAR10(root='./data', train=True, transform=transform, download=True)\n",
        "train_loader = DataLoader(train_dataset, batch_size=batch_size, shuffle=True)\n",
        "\n",
        "test_dataset = torchvision.datasets.CIFAR10(root='./data', train=False, transform=transform, download=True)\n",
        "test_loader = DataLoader(test_dataset, batch_size=batch_size, shuffle=False)"
      ],
      "metadata": {
        "id": "aN6wOhHWHTXb",
        "colab": {
          "base_uri": "https://localhost:8080/"
        },
        "outputId": "05d224b5-d096-42a7-b009-323b43b3ffca"
      },
      "execution_count": null,
      "outputs": [
        {
          "output_type": "stream",
          "name": "stdout",
          "text": [
            "Downloading https://www.cs.toronto.edu/~kriz/cifar-10-python.tar.gz to ./data/cifar-10-python.tar.gz\n"
          ]
        },
        {
          "output_type": "stream",
          "name": "stderr",
          "text": [
            "100%|██████████| 170498071/170498071 [00:03<00:00, 48100116.72it/s]\n"
          ]
        },
        {
          "output_type": "stream",
          "name": "stdout",
          "text": [
            "Extracting ./data/cifar-10-python.tar.gz to ./data\n",
            "Files already downloaded and verified\n"
          ]
        }
      ]
    },
    {
      "cell_type": "code",
      "source": [
        "model_resnet = models.resnet18(pretrained=True)\n",
        "\n",
        "for param in model_resnet.parameters():\n",
        "    param.requires_grad = False"
      ],
      "metadata": {
        "id": "bdIDdDzwHXnc",
        "colab": {
          "base_uri": "https://localhost:8080/"
        },
        "outputId": "61366b9e-4dcc-45f2-e2d9-d47f5c71a45f"
      },
      "execution_count": null,
      "outputs": [
        {
          "output_type": "stream",
          "name": "stderr",
          "text": [
            "/usr/local/lib/python3.10/dist-packages/torchvision/models/_utils.py:208: UserWarning: The parameter 'pretrained' is deprecated since 0.13 and may be removed in the future, please use 'weights' instead.\n",
            "  warnings.warn(\n",
            "/usr/local/lib/python3.10/dist-packages/torchvision/models/_utils.py:223: UserWarning: Arguments other than a weight enum or `None` for 'weights' are deprecated since 0.13 and may be removed in the future. The current behavior is equivalent to passing `weights=ResNet18_Weights.IMAGENET1K_V1`. You can also use `weights=ResNet18_Weights.DEFAULT` to get the most up-to-date weights.\n",
            "  warnings.warn(msg)\n",
            "Downloading: \"https://download.pytorch.org/models/resnet18-f37072fd.pth\" to /root/.cache/torch/hub/checkpoints/resnet18-f37072fd.pth\n",
            "100%|██████████| 44.7M/44.7M [00:00<00:00, 77.2MB/s]\n"
          ]
        }
      ]
    },
    {
      "cell_type": "code",
      "source": [
        "num_ftrs = model_resnet.fc.in_features\n",
        "model_resnet.fc = nn.Linear(num_ftrs, 10)\n",
        "\n",
        "criterion = nn.CrossEntropyLoss()\n",
        "optimizer = optim.Adam(model_resnet.fc.parameters(), lr=learning_rate)"
      ],
      "metadata": {
        "id": "rQYDOpovHlZa"
      },
      "execution_count": null,
      "outputs": []
    },
    {
      "cell_type": "code",
      "source": [
        "for epoch in range(2):\n",
        "    model_resnet.train()\n",
        "    running_loss = 0.0\n",
        "    for i, data in enumerate(train_loader, 0):\n",
        "        inputs, labels = data\n",
        "        optimizer.zero_grad()\n",
        "        outputs = model_resnet(inputs)\n",
        "        loss = criterion(outputs, labels)\n",
        "        loss.backward()\n",
        "        optimizer.step()\n",
        "        running_loss += loss.item()\n",
        "        if i % 200 == 199:\n",
        "            print(f'[{epoch + 1}, {i + 1}] loss: {running_loss / 200:.3f}')\n",
        "            running_loss = 0.0"
      ],
      "metadata": {
        "id": "zU7BmEf2Hph5"
      },
      "execution_count": null,
      "outputs": []
    },
    {
      "cell_type": "code",
      "source": [
        "model_resnet.eval()\n",
        "correct = 0\n",
        "total = 0\n",
        "with torch.no_grad():\n",
        "    for data in test_loader:\n",
        "        images, labels = data\n",
        "        outputs = model_resnet(images)\n",
        "        _, predicted = torch.max(outputs.data, 1)\n",
        "        total += labels.size(0)\n",
        "        correct += (predicted == labels).sum().item()\n",
        "\n",
        "print(f'Точность сети на тестовых изображениях: {100 * correct / total:.2f}%')"
      ],
      "metadata": {
        "id": "mMlqXMhCH2mu"
      },
      "execution_count": null,
      "outputs": []
    },
    {
      "cell_type": "markdown",
      "source": [
        "##Задание 5\n",
        "Для каждого класса найдите изображение в Интернете и для каждой обученной ранее модели выведите результаты предсказаний."
      ],
      "metadata": {
        "id": "Akz0wZpEula5"
      }
    },
    {
      "cell_type": "code",
      "source": [
        "import skimage\n",
        "import numpy as np\n",
        "import cv2"
      ],
      "metadata": {
        "id": "sdnwXg4_J2OP"
      },
      "execution_count": null,
      "outputs": []
    },
    {
      "cell_type": "code",
      "source": [
        "classes = [\n",
        "  '0. airplane',\n",
        "  '1. automobile',\n",
        "  '2. bird',\n",
        "  '3. cat',\n",
        "  '4. deer',\n",
        "  '5. dog',\n",
        "  '6. frog',\n",
        "  '7. horse',\n",
        "  '8. ship',\n",
        "  '9. truck'\n",
        "]\n",
        "\n",
        "URLs = [\n",
        "    'https://w.forfun.com/fetch/f9/f9d82b3ed3bcdead03d1f6aa5895c6d6.jpeg',\n",
        "    'https://krasivodel.ru/wp-content/uploads/2023/03/krasivodel.ru-552.jpg',\n",
        "    'https://w.forfun.com/fetch/a2/a2b4c6bde2388a1cc8b872d683656080.jpeg',\n",
        "    'https://i.pinimg.com/originals/67/e5/e2/67e5e258f7c982e6154271b92aa5a65f.jpg',\n",
        "    'https://i.pinimg.com/originals/b8/62/b0/b862b0c4d489102d30e11281175fbb61.jpg',\n",
        "    'https://w.forfun.com/fetch/bc/bc45d1305c40e2ec7d72c71080b34751.jpeg',\n",
        "    'https://i.pinimg.com/originals/e0/32/0f/e0320f029dd77e6d54d376a05541e3f8.jpg',\n",
        "    'https://wallpapercave.com/wp/wp8725798.jpg',\n",
        "    'https://wallpapers.com/images/hd/ship-pictures-gv7dm1fmubp9hahr.jpg',\n",
        "    'https://i.pinimg.com/originals/7f/88/46/7f8846d4538c837ec045a6e94a7d4a46.jpg'\n",
        "]"
      ],
      "metadata": {
        "id": "g6swz-YLuttO"
      },
      "execution_count": null,
      "outputs": []
    },
    {
      "cell_type": "code",
      "source": [
        "networks = [fc_net, conv_net, model_resnet]\n",
        "networks_names = ['FC', 'Conv', 'ResNet']\n",
        "\n",
        "for cls, url in zip(classes, URLs):\n",
        "    image_rgb = skimage.io.imread(url)\n",
        "    resized_img = cv2.resize(image_rgb, (32, 32))\n",
        "    print(cls)\n",
        "\n",
        "    images = [resized_img]\n",
        "    names = [cls]\n",
        "    for i, net in enumerate(networks):\n",
        "        y_pred = net.predict(np.array([resized_img]))\n",
        "        names.append(f'{networks_names[i]}. Target {cls}. Predict: {y_pred}')\n",
        "    visualize(images, names)"
      ],
      "metadata": {
        "id": "ERqRoEV2KWLf"
      },
      "execution_count": null,
      "outputs": []
    },
    {
      "cell_type": "markdown",
      "source": [
        "#Выводы"
      ],
      "metadata": {
        "id": "s-nO4nD8uu7f"
      }
    },
    {
      "cell_type": "code",
      "source": [
        "#ваши выводы"
      ],
      "metadata": {
        "id": "t1Io7lc5uv5n"
      },
      "execution_count": null,
      "outputs": []
    }
  ]
}