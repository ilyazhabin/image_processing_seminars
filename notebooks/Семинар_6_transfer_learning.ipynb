{
  "cells": [
    {
      "cell_type": "markdown",
      "metadata": {
        "id": "hRTa3Ee15WsJ"
      },
      "source": [
        "# Перенос обучения и тонкая настройка обученных моделей"
      ]
    },
    {
      "cell_type": "markdown",
      "metadata": {
        "id": "2X4KyhORdSeO"
      },
      "source": [
        "В этом руководстве вы узнаете, как классифицировать изображения кошек и собак с помощью трансферного обучения из предварительно обученной сети.\n",
        "\n",
        "Предварительно обученная модель — это сохраненная сеть, которая ранее была обучена на большом наборе данных, как правило, на крупномасштабной задаче классификации изображений. Вы либо используете предварительно обученную модель как есть, либо используете трансферное обучение, чтобы настроить эту модель для данной задачи.\n",
        "\n",
        "Интуиция, лежащая в основе трансферного обучения для классификации изображений, заключается в том, что если модель обучается на большом и достаточно общем наборе данных, эта модель будет эффективно служить общей моделью визуального мира. Затем вы можете воспользоваться этими изученными картами объектов, не начав с нуля, обучая большую модель на большом наборе данных.\n",
        "\n",
        "В этой записной книжке вы попробуете два способа настройки предварительно обученной модели:\n",
        "\n",
        "1. Извлечение признаков: используйте представления, изученные предыдущей сетью, для извлечения значимых признаков из новых образцов. Вы просто добавляете новый классификатор, который будет обучаться с нуля, поверх предварительно обученной модели, чтобы вы могли повторно использовать карты объектов, изученные ранее, для набора данных.\n",
        "\n",
        "1. Вам не нужно (повторно) обучать всю модель. Базовая сверточная сеть уже содержит функции, которые обычно полезны для классификации изображений. Однако окончательная классификационная часть предварительно обученной модели специфична для исходной задачи классификации, а затем специфична для набора классов, на которых была обучена модель.\n",
        "\n",
        "1. Тонкая настройка: разморозьте несколько верхних слоев замороженной базовой модели и совместно обучите как недавно добавленные слои классификатора, так и последние слои базовой модели. Это позволяет нам «точно настроить» представления функций более высокого порядка в базовой модели, чтобы сделать их более подходящими для конкретной задачи.\n",
        "\n",
        "Вы будете следовать общему рабочему процессу машинного обучения.\n",
        "\n",
        "1. Изучите и поймите данные\n",
        "1. Создайте конвейер ввода, в данном случае с помощью Keras ImageDataGenerator.\n",
        "1. Составьте модель\n",
        " - Загрузить предварительно обученную базовую модель (и предварительно обученные веса)\n",
        " - Подключите классификационные слои сверху\n",
        "1. Обучите модель\n",
        "1. Оцените модель"
      ]
    },
    {
      "cell_type": "code",
      "execution_count": null,
      "metadata": {
        "id": "TqOt6Sv7AsMi"
      },
      "outputs": [],
      "source": [
        "import matplotlib.pyplot as plt\n",
        "import numpy as np\n",
        "import os\n",
        "import tensorflow as tf"
      ]
    },
    {
      "cell_type": "markdown",
      "metadata": {
        "id": "v77rlkCKW0IJ"
      },
      "source": [
        "## Обработка данных"
      ]
    },
    {
      "cell_type": "markdown",
      "metadata": {
        "id": "0GoKGm1duzgk"
      },
      "source": [
        "### Загрузка данных"
      ]
    },
    {
      "cell_type": "markdown",
      "metadata": {
        "id": "vHP9qMJxt2oz"
      },
      "source": [
        "В этом уроке мы будем использовать набор данных, содержащий несколько тысяч изображений кошек и собак. Загрузите и извлеките zip-файл, содержащий изображения, затем создайте файл `tf.data.Dataset` для обучения и проверки с помощью утилиты `tf.keras.utils.image_dataset_from_directory`. Вы можете узнать больше о загрузке изображений в дополнительном [учебном пособии](https://www.tensorflow.org/tutorials/load_data/images)."
      ]
    },
    {
      "cell_type": "code",
      "execution_count": null,
      "metadata": {
        "id": "ro4oYaEmxe4r"
      },
      "outputs": [],
      "source": [
        "_URL = 'https://storage.googleapis.com/mledu-datasets/cats_and_dogs_filtered.zip'\n",
        "path_to_zip = tf.keras.utils.get_file('cats_and_dogs.zip', origin=_URL, extract=True)\n",
        "PATH = os.path.join(os.path.dirname(path_to_zip), 'cats_and_dogs_filtered')\n",
        "\n",
        "train_dir = os.path.join(PATH, 'train')\n",
        "validation_dir = os.path.join(PATH, 'validation')\n",
        "\n",
        "BATCH_SIZE = 32\n",
        "IMG_SIZE = (160, 160)\n",
        "\n",
        "train_dataset = tf.keras.utils.image_dataset_from_directory(train_dir,\n",
        "                                                            shuffle=True,\n",
        "                                                            batch_size=BATCH_SIZE,\n",
        "                                                            image_size=IMG_SIZE)"
      ]
    },
    {
      "cell_type": "code",
      "source": [
        "PATH"
      ],
      "metadata": {
        "id": "6Ygc4ZL_2Teo"
      },
      "execution_count": null,
      "outputs": []
    },
    {
      "cell_type": "code",
      "execution_count": null,
      "metadata": {
        "id": "cAvtLwi7_J__"
      },
      "outputs": [],
      "source": [
        "validation_dataset = tf.keras.utils.image_dataset_from_directory(validation_dir,\n",
        "                                                                 shuffle=True,\n",
        "                                                                 batch_size=BATCH_SIZE,\n",
        "                                                                 image_size=IMG_SIZE)"
      ]
    },
    {
      "cell_type": "markdown",
      "metadata": {
        "id": "yO1Q2JaW5sIy"
      },
      "source": [
        "Покажите первые девять изображений и меток из обучающего набора:"
      ]
    },
    {
      "cell_type": "code",
      "execution_count": null,
      "metadata": {
        "id": "K5BeQyKThC_Y"
      },
      "outputs": [],
      "source": [
        "class_names = train_dataset.class_names\n",
        "\n",
        "plt.figure(figsize=(10, 10))\n",
        "for images, labels in train_dataset.take(1):\n",
        "  for i in range(9):\n",
        "    ax = plt.subplot(3, 3, i + 1)\n",
        "    plt.imshow(images[i].numpy().astype(\"uint8\"))\n",
        "    plt.title(class_names[labels[i]])\n",
        "    plt.axis(\"off\")"
      ]
    },
    {
      "cell_type": "markdown",
      "metadata": {
        "id": "EZqCX_mpV3Mx"
      },
      "source": [
        "Поскольку исходный набор данных не содержит тестового набора, вы создадите его. Для этого определите, сколько пакетов данных доступно в наборе проверки, используя `tf.data.experimental.cardinality`, затем переместите 20% из них в тестовый набор."
      ]
    },
    {
      "cell_type": "code",
      "execution_count": null,
      "metadata": {
        "id": "uFFIYrTFV9RO"
      },
      "outputs": [],
      "source": [
        "val_batches = tf.data.experimental.cardinality(validation_dataset)\n",
        "test_dataset = validation_dataset.take(val_batches // 5)\n",
        "validation_dataset = validation_dataset.skip(val_batches // 5)"
      ]
    },
    {
      "cell_type": "code",
      "source": [
        "val_batches"
      ],
      "metadata": {
        "id": "CnW7pvWF3dRC"
      },
      "execution_count": null,
      "outputs": []
    },
    {
      "cell_type": "code",
      "execution_count": null,
      "metadata": {
        "id": "Q9pFlFWgBKgH"
      },
      "outputs": [],
      "source": [
        "print('Number of validation batches: %d' % tf.data.experimental.cardinality(validation_dataset))\n",
        "print('Number of test batches: %d' % tf.data.experimental.cardinality(test_dataset))"
      ]
    },
    {
      "cell_type": "markdown",
      "source": [],
      "metadata": {
        "id": "v4r9lKlhKbMb"
      }
    },
    {
      "cell_type": "markdown",
      "source": [
        "## Задание 1.\n",
        "Загрузить набор данных `tf_flowers`, сформировать на нем набор данных подготовить его к загрузке в модель **ModelNet_v2**. Набор данных необходимо разбить на пакеты по 32 изображений. Отобразить случайные 9 изображений из валидационной выборки."
      ],
      "metadata": {
        "id": "mOvS4mgsKc0i"
      }
    },
    {
      "cell_type": "code",
      "source": [
        "import tensorflow_datasets as tfds"
      ],
      "metadata": {
        "id": "il8OVFWTAlwP"
      },
      "execution_count": null,
      "outputs": []
    },
    {
      "cell_type": "code",
      "source": [
        "(raw_train, raw_validation, raw_test), metadata = tfds.load(\n",
        "    'tf_flowers',\n",
        "    split=['train[:80%]', 'train[80%:90%]', 'train[90%:]'],\n",
        "    with_info=True,\n",
        "    as_supervised=True,\n",
        ")\n",
        "\n",
        "IMG_SIZE = 160\n",
        "\n",
        "def format_example(image, label):\n",
        "    image = tf.cast(image, tf.float32)\n",
        "    image = (image / 255.0)\n",
        "    image = tf.image.resize(image, (IMG_SIZE, IMG_SIZE))\n",
        "    return image, label\n",
        "\n",
        "train = raw_train.map(format_example)\n",
        "validation = raw_validation.map(format_example)\n",
        "test = raw_test.map(format_example)\n",
        "\n",
        "# Разбиваем на пакеты\n",
        "BATCH_SIZE = 32\n",
        "train_batches = train.batch(BATCH_SIZE)\n",
        "validation_batches = validation.batch(BATCH_SIZE)\n",
        "test_batches = test.batch(BATCH_SIZE)\n",
        "\n",
        "# Отображаем 9 случайных изображений из валидационной выборки\n",
        "plt.figure(figsize=(10, 10))\n",
        "for images, labels in validation_batches.take(1):\n",
        "    for i in range(9):\n",
        "        ax = plt.subplot(3, 3, i + 1)\n",
        "        plt.imshow(images[i].numpy())\n",
        "        plt.title(metadata.features['label'].int2str(labels[i]))\n",
        "        plt.axis('off')\n",
        "plt.show()"
      ],
      "metadata": {
        "id": "1faKmPlPAhnX"
      },
      "execution_count": null,
      "outputs": []
    },
    {
      "cell_type": "markdown",
      "metadata": {
        "id": "MakSrdd--RKg"
      },
      "source": [
        "### Настройте набор данных для повышения производительности"
      ]
    },
    {
      "cell_type": "markdown",
      "metadata": {
        "id": "22XWC7yjkZu4"
      },
      "source": [
        "Используйте предварительную выборку с буферизацией для загрузки изображений с диска без блокировки ввода-вывода. Чтобы узнать больше об этом методе, смотрите раздел [производительность данных](https://www.tensorflow.org/guide/data_performance) путеводитель."
      ]
    },
    {
      "cell_type": "code",
      "execution_count": null,
      "metadata": {
        "id": "p3UUPdm86LNC"
      },
      "outputs": [],
      "source": [
        "AUTOTUNE = tf.data.AUTOTUNE\n",
        "\n",
        "train_dataset = train_dataset.prefetch(buffer_size=AUTOTUNE)\n",
        "validation_dataset = validation_dataset.prefetch(buffer_size=AUTOTUNE)\n",
        "test_dataset = test_dataset.prefetch(buffer_size=AUTOTUNE)"
      ]
    },
    {
      "cell_type": "markdown",
      "metadata": {
        "id": "MYfcVwYLiR98"
      },
      "source": [
        "### Используем расширение набора данных"
      ]
    },
    {
      "cell_type": "markdown",
      "metadata": {
        "id": "bDWc5Oad1daX"
      },
      "source": [
        "Если у вас нет большого набора данных изображений, рекомендуется искусственно вносить разнообразие в выборку, применяя случайные, но реалистичные преобразования к обучающим изображениям, такие как поворот и горизонтальное переворачивание. Это помогает предоставить модели доступ к различным аспектам обучающих данных и уменьшить [переобучение](https://www.tensorflow.org/tutorials/keras/overfit_and_underfit). Вы можете узнать больше об увеличении данных в этом [руководстве](https://www.tensorflow.org/tutorials/images/data_augmentation)."
      ]
    },
    {
      "cell_type": "code",
      "execution_count": null,
      "metadata": {
        "id": "3P99QiMGit1A"
      },
      "outputs": [],
      "source": [
        "data_augmentation = tf.keras.Sequential([\n",
        "  tf.keras.layers.RandomFlip('horizontal'),\n",
        "  tf.keras.layers.RandomRotation(0.2),\n",
        "])"
      ]
    },
    {
      "cell_type": "markdown",
      "metadata": {
        "id": "s9SlcbhrarOO"
      },
      "source": [
        "Примечание: Эти слои активны только во время тренировки, когда вы вызываете `Model.fit`. Они неактивны, когда модель используется в режиме логического вывода в `Model.evaluate`, `Model.predict` или `Model.call`."
      ]
    },
    {
      "cell_type": "markdown",
      "metadata": {
        "id": "9mD3rE2Lm7-d"
      },
      "source": [
        "Давайте повторно применим эти слои к одному и тому же изображению и посмотрим на результат."
      ]
    },
    {
      "cell_type": "code",
      "execution_count": null,
      "metadata": {
        "id": "aQullOUHkm67"
      },
      "outputs": [],
      "source": [
        "for image, _ in train_dataset.take(1):\n",
        "  plt.figure(figsize=(10, 10))\n",
        "  first_image = image[0]\n",
        "  for i in range(9):\n",
        "    ax = plt.subplot(3, 3, i + 1)\n",
        "    augmented_image = data_augmentation(tf.expand_dims(first_image, 0))\n",
        "    plt.imshow(augmented_image[0] / 255)\n",
        "    plt.axis('off')"
      ]
    },
    {
      "cell_type": "markdown",
      "metadata": {
        "id": "bAywKtuVn8uK"
      },
      "source": [
        "### Масштабировать значения пикселей\n",
        "\n",
        "Загрузите `tf.keras.applications.MobileNetV2` для использования в качестве базовой модели. Эта модель ожидает значения пикселей в `[-1, 1]`, но на данный момент значения пикселей в ваших изображениях находятся в `[0, 255]`. Чтобы изменить их масштаб, используйте метод предварительной обработки, прилагаемый к модели."
      ]
    },
    {
      "cell_type": "code",
      "execution_count": null,
      "metadata": {
        "id": "cO0HM9JAQUFq"
      },
      "outputs": [],
      "source": [
        "preprocess_input = tf.keras.applications.mobilenet_v2.preprocess_input"
      ]
    },
    {
      "cell_type": "markdown",
      "metadata": {
        "id": "xnr81qRMzcs5"
      },
      "source": [
        "Примечание: В качестве альтернативы вы могли бы изменить масштаб значений пикселей с `[0, 255]` на `[-1, 1]`, используя `tf.keras.layers.Rescaling`."
      ]
    },
    {
      "cell_type": "code",
      "execution_count": null,
      "metadata": {
        "id": "R2NyJn4KQMux"
      },
      "outputs": [],
      "source": [
        "rescale = tf.keras.layers.Rescaling(1./127.5, offset=-1)"
      ]
    },
    {
      "cell_type": "markdown",
      "metadata": {
        "id": "Wz7qgImhTxw4"
      },
      "source": [
        "Примечание: Если вы используете другие `tf.keras.applications`, обязательно проверьте документ API, чтобы определить, ожидают ли они пиксели в `[-1, 1]` или `[0, 1]`, или используйте включенную функцию `preprocess_input`."
      ]
    },
    {
      "cell_type": "markdown",
      "source": [
        "## Задание 2\n",
        "Используйте расширение набора данных, созданного в задании 1, с использованием конвеера преобразования `data_augmentation`(см. ячейки выше), с включением в него слоя RandomCrop() (возможно придется реализовать слой восстанавливающий разрешение изображения после обрезки, а возможно и нет, исследуйте этот вопрос)."
      ],
      "metadata": {
        "id": "etBwKlV8OL4d"
      }
    },
    {
      "cell_type": "code",
      "source": [
        "def preprocess_image(image, label):\n",
        "    image = tf.image.resize(image, (IMG_SIZE, IMG_SIZE))\n",
        "    image = tf.cast(image, tf.float32) / 255.0\n",
        "    return image, label\n",
        "\n",
        "\n",
        "train_batches = raw_train.map(preprocess_image).batch(BATCH_SIZE)\n",
        "validation_batches = raw_validation.map(preprocess_image).batch(BATCH_SIZE)\n",
        "\n",
        "\n",
        "plt.figure(figsize=(10, 10))\n",
        "for images, _ in validation_batches.take(1):\n",
        "    for i in range(9):\n",
        "        ax = plt.subplot(3, 3, i + 1)\n",
        "        plt.imshow(images[i])\n",
        "        plt.axis('off')\n",
        "plt.show()\n",
        "\n",
        "plt.figure(figsize=(10, 10))\n",
        "for images, _ in validation_batches.take(1):\n",
        "    for i in range(9):\n",
        "        ax = plt.subplot(3, 3, i + 1)\n",
        "        augmented_image = data_augmentation(tf.expand_dims(images[i], 0), training=True)\n",
        "        plt.imshow(augmented_image[0].numpy())\n",
        "        plt.axis('off')\n",
        "plt.show()"
      ],
      "metadata": {
        "id": "HWAdiCvvBkTA"
      },
      "execution_count": null,
      "outputs": []
    },
    {
      "cell_type": "code",
      "source": [
        "for images, _ in train_batches.take(1):\n",
        "    for i in range(1):\n",
        "        original_image = images[i]\n",
        "        cropped_image = data_augmentation(tf.expand_dims(original_image, 0), training=True)\n",
        "\n",
        "        print(\"Оригинальный размер: \", original_image.numpy().shape)\n",
        "        print(\"Размер после RandomCrop: \", cropped_image.numpy().shape)"
      ],
      "metadata": {
        "id": "dfWFqNvTFIA7"
      },
      "execution_count": null,
      "outputs": []
    },
    {
      "cell_type": "code",
      "source": [
        "#реализовывать слой восстановления не нужно"
      ],
      "metadata": {
        "id": "gtx2dMlWFKVj"
      },
      "execution_count": null,
      "outputs": []
    },
    {
      "cell_type": "markdown",
      "metadata": {
        "id": "OkH-kazQecHB"
      },
      "source": [
        "## Создайте базовую модель из предварительно обученных CNN\n",
        "Вы создадите базовую модель на основе модели **MobileNet V2**, разработанной в Google. Она предварительно обучена на наборе данных ImageNet, большом наборе данных, состоящем из 1,4 млн изображений и 1000 классов. ImageNet - это исследовательский обучающий набор данных с широким спектром категорий, таких как `джекфрут` и `шприц`. Эта база знаний поможет нам классифицировать кошек и собак из нашего конкретного набора данных.\n",
        "\n",
        "Во-первых, вам нужно выбрать, какой уровень MobileNet V2 вы будете использовать для извлечения объектов. Самый последний уровень классификации, т. е. *голова*(\"сверху\", поскольку большинство диаграмм моделей машинного обучения идут снизу вверх) не очень полезен. Вместо этого вы будете следовать общепринятой практике и использовать самый последний слой перед операцией уплощения. Этот слой называется \"слоем узкого места\". Элементы слоя \"узкое место\" сохраняют большую общность по сравнению с конечным/верхним слоем.\n",
        "\n",
        "Сначала создайте экземпляр модели MobileNet V2, предварительно загруженной с весами, обученными в ImageNet. Указав аргумент **include_top=False**, вы загружаете сеть, которая не включает слои классификации вверху, что идеально подходит для извлечения объектов."
      ]
    },
    {
      "cell_type": "code",
      "source": [
        "IMG_SIZE = (160, 160)"
      ],
      "metadata": {
        "id": "lsoqyCvyFjPb"
      },
      "execution_count": null,
      "outputs": []
    },
    {
      "cell_type": "code",
      "execution_count": null,
      "metadata": {
        "id": "19IQ2gqneqmS"
      },
      "outputs": [],
      "source": [
        "# Create the base model from the pre-trained model MobileNet V2\n",
        "IMG_SHAPE = IMG_SIZE + (3,)\n",
        "base_model = tf.keras.applications.MobileNetV2(input_shape=IMG_SHAPE,\n",
        "                                               include_top=False,\n",
        "                                               weights='imagenet')"
      ]
    },
    {
      "cell_type": "markdown",
      "metadata": {
        "id": "AqcsxoJIEVXZ"
      },
      "source": [
        "Этот инструмент извлечения объектов преобразует каждое изображение размером `160x160x3` в блок объектов размером `5x5x1280`. Давайте посмотрим, что это делает с примером пакета изображений:"
      ]
    },
    {
      "cell_type": "code",
      "execution_count": null,
      "metadata": {
        "id": "Y-2LJL0EEUcx"
      },
      "outputs": [],
      "source": [
        "image_batch, label_batch = next(iter(train_dataset))\n",
        "feature_batch = base_model(image_batch)\n",
        "print(feature_batch.shape)"
      ]
    },
    {
      "cell_type": "markdown",
      "metadata": {
        "id": "rlx56nQtfe8Y"
      },
      "source": [
        "## Извлечение объектов\n",
        "На этом шаге вы заморозите сверточную базу, созданную на предыдущем шаге, и будете использовать ее в качестве средства извлечения объектов. Кроме того, вы добавляете поверх него классификатор и обучаете классификатор верхнего уровня."
      ]
    },
    {
      "cell_type": "markdown",
      "metadata": {
        "id": "CnMLieHBCwil"
      },
      "source": [
        "### Заморозка сверточной части нейронной сети"
      ]
    },
    {
      "cell_type": "markdown",
      "metadata": {
        "id": "7fL6upiN3ekS"
      },
      "source": [
        "Важно заморозить сверточную часть перед компиляцией и обучением модели. Замораживание (путем установки layer.trainable = False) предотвращает обновление весов в данном слое во время обучения. Mobile Net V2 имеет много уровней, поэтому установка флага `trainable` для всей модели в значение False приведет к замораживанию всех из них."
      ]
    },
    {
      "cell_type": "code",
      "execution_count": null,
      "metadata": {
        "id": "OTCJH4bphOeo"
      },
      "outputs": [],
      "source": [
        "base_model.trainable = False"
      ]
    },
    {
      "cell_type": "markdown",
      "metadata": {
        "id": "jsNHwpm7BeVM"
      },
      "source": [
        "### Важное замечание о слоях пакетной нормализации\n",
        "\n",
        "Многие модели содержат `tf.keras.layers.BatchNormalization`. Этот слой является особым случаем, и при его точной настройке следует соблюдать меры предосторожности, как показано далее в этом руководстве.\n",
        "\n",
        "Когда вы устанавливаете `layer.trainable = False`, слой `BatchNormalization` будет работать в режиме логического вывода и не будет обновлять статистику среднего значения и дисперсии.\n",
        "\n",
        "Когда вы размораживаете модель, содержащую слои пакетной нормализации, для выполнения точной настройки, вы должны поддерживать слои пакетной нормализации в режиме логического вывода, передавая `training = False` при вызове базовой модели. В противном случае обновления, примененные к неподготовляемым весам, уничтожат то, чему научилась модель.\n",
        "\n",
        "Для получения более подробной информации смотрите [Руководство по обучению переводу](https://www.tensorflow.org/guide/keras/transfer_learning)."
      ]
    },
    {
      "cell_type": "code",
      "execution_count": null,
      "metadata": {
        "id": "KpbzSmPkDa-N"
      },
      "outputs": [],
      "source": [
        "# Let's take a look at the base model architecture\n",
        "base_model.summary()"
      ]
    },
    {
      "cell_type": "markdown",
      "metadata": {
        "id": "wdMRM8YModbk"
      },
      "source": [
        "### Добавление *головы* - классификатора"
      ]
    },
    {
      "cell_type": "markdown",
      "metadata": {
        "id": "QBc31c4tMOdH"
      },
      "source": [
        "Чтобы сгенерировать прогнозы на основе блока объектов, усредните их по пространственным местоположениям размером `5x5`, используя `tf.keras.layers.GlobalAveragePooling2D` для преобразования объектов в один вектор из 1280 элементов на изображение."
      ]
    },
    {
      "cell_type": "code",
      "execution_count": null,
      "metadata": {
        "id": "dLnpMF5KOALm"
      },
      "outputs": [],
      "source": [
        "global_average_layer = tf.keras.layers.GlobalAveragePooling2D()\n",
        "feature_batch_average = global_average_layer(feature_batch)\n",
        "print(feature_batch_average.shape)"
      ]
    },
    {
      "cell_type": "markdown",
      "metadata": {
        "id": "O1p0OJBR6dOT"
      },
      "source": [
        "Примените `tf.keras.layers.Dense` слой для преобразования этих объектов в единый прогноз для каждого изображения. Здесь вам не нужна функция активации, потому что это предсказание будет обрабатываться как `logit`, или необработанное значение прогноза. Положительные числа предсказывают класс 1, отрицательные числа предсказывают класс 0."
      ]
    },
    {
      "cell_type": "code",
      "execution_count": null,
      "metadata": {
        "id": "Wv4afXKj6cVa"
      },
      "outputs": [],
      "source": [
        "prediction_layer = tf.keras.layers.Dense(1)\n",
        "prediction_batch = prediction_layer(feature_batch_average)\n",
        "print(prediction_batch.shape)"
      ]
    },
    {
      "cell_type": "markdown",
      "metadata": {
        "id": "HXvz-ZkTa9b3"
      },
      "source": [
        "Создайте модель, объединив в цепочку слои увеличения данных, масштабирования, `base_model` и извлечения объектов с помощью [Keras Functional API](https://www.tensorflow.org/guide/keras/functional). Как упоминалось ранее, используйте `training=False`, поскольку наша модель содержит слой `BatchNormalization`."
      ]
    },
    {
      "cell_type": "code",
      "execution_count": null,
      "metadata": {
        "id": "DgzQX6Veb2WT"
      },
      "outputs": [],
      "source": [
        "inputs = tf.keras.Input(shape=(160, 160, 3))\n",
        "x = data_augmentation(inputs)\n",
        "x = preprocess_input(x)\n",
        "x = base_model(x, training=False)\n",
        "x = global_average_layer(x)\n",
        "x = tf.keras.layers.Dropout(0.2)(x)\n",
        "outputs = prediction_layer(x)\n",
        "model = tf.keras.Model(inputs, outputs)"
      ]
    },
    {
      "cell_type": "code",
      "execution_count": null,
      "metadata": {
        "id": "I8ARiyMFsgbH"
      },
      "outputs": [],
      "source": [
        "model.summary()"
      ]
    },
    {
      "cell_type": "markdown",
      "metadata": {
        "id": "lxOcmVr0ydFZ"
      },
      "source": [
        "Более 8 миллионов параметров в мобильной сети заморожены, но в плотном слое есть 1,2 тысячи *обучаемых* параметров. Они разделены между двумя объектами `tf.Variable`, весами и смещениями."
      ]
    },
    {
      "cell_type": "code",
      "execution_count": null,
      "metadata": {
        "id": "krvBumovycVA"
      },
      "outputs": [],
      "source": [
        "len(model.trainable_variables)"
      ]
    },
    {
      "cell_type": "code",
      "execution_count": null,
      "metadata": {
        "id": "jeGk93R2ahav"
      },
      "outputs": [],
      "source": [
        "tf.keras.utils.plot_model(model, show_shapes=True)"
      ]
    },
    {
      "cell_type": "markdown",
      "source": [
        "## Задание 3.\n",
        "Настройте классификатор для модели **MobileNet_v2** для классификации набора данных `tf_flowers`. Проверьте настройку по summary и визуализируйте модель."
      ],
      "metadata": {
        "id": "fPz0ASQFQPbS"
      }
    },
    {
      "cell_type": "code",
      "source": [
        "IMG_SHAPE = (160, 160, 3)\n",
        "base_model = tf.keras.applications.MobileNetV2(input_shape=IMG_SHAPE,\n",
        "                                               include_top=False,\n",
        "                                               weights='imagenet')\n",
        "\n",
        "preprocess_input = tf.keras.applications.mobilenet_v2.preprocess_input\n",
        "\n",
        "global_average_layer = tf.keras.layers.GlobalAveragePooling2D()\n",
        "prediction_layer = tf.keras.layers.Dense(5, activation='softmax')\n",
        "\n",
        "inputs = tf.keras.Input(shape=(160, 160, 3))\n",
        "x = data_augmentation(inputs)\n",
        "x = preprocess_input(x)\n",
        "x = base_model(x, training=False)\n",
        "x = global_average_layer(x)\n",
        "x = tf.keras.layers.Dropout(0.2)(x)\n",
        "outputs = prediction_layer(x)\n",
        "model = tf.keras.Model(inputs, outputs)\n",
        "\n",
        "model.summary()\n",
        "\n",
        "tf.keras.utils.plot_model(model, show_shapes=True)"
      ],
      "metadata": {
        "id": "-t5ENouwG8Fp"
      },
      "execution_count": null,
      "outputs": []
    },
    {
      "cell_type": "markdown",
      "metadata": {
        "id": "g0ylJXE_kRLi"
      },
      "source": [
        "### Скомпилируйте модель\n",
        "\n",
        "Скомпилируйте модель перед ее обучением. Поскольку существует два класса, используйте `tf.keras.losses.BinaryCrossentropy` как функцию ошибки с флагом `from_logits=True`, поскольку модель обеспечивает линейный вывод."
      ]
    },
    {
      "cell_type": "code",
      "execution_count": null,
      "metadata": {
        "id": "RpR8HdyMhukJ"
      },
      "outputs": [],
      "source": [
        "base_learning_rate = 0.0001\n",
        "model.compile(optimizer=tf.keras.optimizers.Adam(learning_rate=base_learning_rate),\n",
        "              loss=tf.keras.losses.BinaryCrossentropy(from_logits=True),\n",
        "              metrics=[tf.keras.metrics.BinaryAccuracy(threshold=0, name='accuracy')])"
      ]
    },
    {
      "cell_type": "markdown",
      "metadata": {
        "id": "RxvgOYTDSWTx"
      },
      "source": [
        "### Обучите модель\n",
        "\n",
        "После обучения в течение 10 эпох вы должны увидеть точность ~ 96% в наборе проверки."
      ]
    },
    {
      "cell_type": "code",
      "execution_count": null,
      "metadata": {
        "id": "Om4O3EESkab1"
      },
      "outputs": [],
      "source": [
        "initial_epochs = 10\n",
        "\n",
        "loss0, accuracy0 = model.evaluate(validation_batches)"
      ]
    },
    {
      "cell_type": "code",
      "execution_count": null,
      "metadata": {
        "id": "8cYT1c48CuSd"
      },
      "outputs": [],
      "source": [
        "print(\"initial loss: {:.2f}\".format(loss0))\n",
        "print(\"initial accuracy: {:.2f}\".format(accuracy0))"
      ]
    },
    {
      "cell_type": "code",
      "execution_count": null,
      "metadata": {
        "id": "JsaRFlZ9B6WK"
      },
      "outputs": [],
      "source": [
        "history = model.fit(train_dataset,\n",
        "                    epochs=initial_epochs,\n",
        "                    validation_data=validation_dataset)"
      ]
    },
    {
      "cell_type": "markdown",
      "source": [
        "## Задание 4.\n",
        "Обучите модель и постройте ее истории обучения на валидационной и обучающей выборках."
      ],
      "metadata": {
        "id": "MSXvUT5lSTd5"
      }
    },
    {
      "cell_type": "code",
      "source": [
        "base_learning_rate = 0.0001\n",
        "model.compile(optimizer=tf.keras.optimizers.Adam(learning_rate=base_learning_rate),\n",
        "              loss=tf.keras.losses.BinaryCrossentropy(from_logits=True),\n",
        "              metrics=[tf.keras.metrics.BinaryAccuracy(threshold=0, name='accuracy')])\n",
        "initial_epochs = 10\n",
        "print(\"initial loss: {:.2f}\".format(loss0))\n",
        "print(\"initial accuracy: {:.2f}\".format(accuracy0))\n",
        "loss0, accuracy0 = model.evaluate(validation_batches)\n",
        "history = model.fit(train_dataset,\n",
        "                    epochs=initial_epochs,\n",
        "                    validation_data=validation_dataset)"
      ],
      "metadata": {
        "id": "8JETHCE5JBEA"
      },
      "execution_count": null,
      "outputs": []
    },
    {
      "cell_type": "code",
      "source": [
        "EPOCHS = 10\n",
        "history = model.fit(train_batches,\n",
        "                    epochs=EPOCHS,\n",
        "                    validation_data=validation_batches)"
      ],
      "metadata": {
        "id": "bRDHBqWSINc1"
      },
      "execution_count": null,
      "outputs": []
    },
    {
      "cell_type": "code",
      "source": [
        "acc = history.history['accuracy']\n",
        "val_acc = history.history['val_accuracy']\n",
        "\n",
        "loss = history.history['loss']\n",
        "val_loss = history.history['val_loss']\n",
        "\n",
        "epochs_range = range(EPOCHS)\n",
        "\n",
        "plt.figure(figsize=(8, 8))\n",
        "plt.subplot(1, 2, 1)\n",
        "plt.plot(epochs_range, acc, label='Training Accuracy')\n",
        "plt.plot(epochs_range, val_acc, label='Validation Accuracy')\n",
        "plt.legend(loc='lower right')\n",
        "plt.title('Training and Validation Accuracy')\n",
        "\n",
        "plt.subplot(1, 2, 2)\n",
        "plt.plot(epochs_range, loss, label='Training Loss')\n",
        "plt.plot(epochs_range, val_loss, label='Validation Loss')\n",
        "plt.legend(loc='upper right')\n",
        "plt.title('Training and Validation Loss')\n",
        "plt.show()"
      ],
      "metadata": {
        "id": "eo_symQuHDRi"
      },
      "execution_count": null,
      "outputs": []
    },
    {
      "cell_type": "markdown",
      "metadata": {
        "id": "Hd94CKImf8vi"
      },
      "source": [
        "### Кривые истории обучения\n",
        "\n",
        "Давайте взглянем на кривые обучения и потери точности при проверке при использовании базовой модели MobileNetV2 в качестве средства извлечения фиксированных функций."
      ]
    },
    {
      "cell_type": "code",
      "execution_count": null,
      "metadata": {
        "id": "53OTCh3jnbwV"
      },
      "outputs": [],
      "source": [
        "acc = history.history['accuracy']\n",
        "val_acc = history.history['val_accuracy']\n",
        "\n",
        "loss = history.history['loss']\n",
        "val_loss = history.history['val_loss']\n",
        "\n",
        "plt.figure(figsize=(8, 8))\n",
        "plt.subplot(2, 1, 1)\n",
        "plt.plot(acc, label='Training Accuracy')\n",
        "plt.plot(val_acc, label='Validation Accuracy')\n",
        "plt.legend(loc='lower right')\n",
        "plt.ylabel('Accuracy')\n",
        "plt.ylim([min(plt.ylim()),1])\n",
        "plt.title('Training and Validation Accuracy')\n",
        "\n",
        "plt.subplot(2, 1, 2)\n",
        "plt.plot(loss, label='Training Loss')\n",
        "plt.plot(val_loss, label='Validation Loss')\n",
        "plt.legend(loc='upper right')\n",
        "plt.ylabel('Cross Entropy')\n",
        "plt.ylim([0,1.0])\n",
        "plt.title('Training and Validation Loss')\n",
        "plt.xlabel('epoch')\n",
        "plt.show()"
      ]
    },
    {
      "cell_type": "markdown",
      "metadata": {
        "id": "foWMyyUHbc1j"
      },
      "source": [
        "Примечание: Если вам интересно, почему показатели проверки явно лучше, чем показатели обучения, основной фактор заключается в том, что такие слои, как `tf.keras.layers.BatchNormalization` и `tf.keras.layers.Dropout` влияет на точность во время обучения. Они отключаются при расчете потерь при проверке.\n",
        "\n",
        "В меньшей степени это связано также с тем, что показатели обучения сообщают среднее значение за эпоху, в то время как показатели проверки оцениваются после эпохи, поэтому показатели проверки показывают модель, которая обучалась немного дольше."
      ]
    },
    {
      "cell_type": "markdown",
      "metadata": {
        "id": "CqwV-CRdS6Nv"
      },
      "source": [
        "## Точная настройка\n",
        "В эксперименте по извлечению объектов вы обучали только несколько слоев поверх базовой модели MobileNetV2. Веса предварительно обученной сети **не** обновлялись во время обучения.\n",
        "\n",
        "Один из способов еще больше повысить производительность - это обучить (или \"точно настроить\") веса верхних слоев предварительно обученной модели наряду с обучением добавленного вами классификатора. Процесс обучения приведет к принудительной настройке весов общих признаков на признаки, связанные конкретно с набором данных.\n",
        "\n",
        "Примечание: Это следует делать только после того, как вы обучили классификатор верхнего уровня с предварительно обученной моделью, для которой установлено значение non-trainable. Если вы добавите случайно инициализированный классификатор поверх предварительно обученной модели и попытаетесь обучить все слои совместно, величина обновлений градиента будет слишком большой (из-за случайных весов из классификатора), и ваша предварительно обученная модель забудет то, чему она научилась.\n",
        "\n",
        "Кроме того, вам следует попытаться точно настроить небольшое количество верхних слоев, а не всю модель MobileNet. В большинстве сверточных сетей, чем выше уровень, тем более специализированным он является. На первых нескольких слоях изучаются очень простые и универсальные признаки, которые применимы практически ко всем типам изображений. По мере продвижения вверх признаки становятся все более специфичными для набора данных, на основе которого была обучена модель. Цель тонкой настройки состоит в том, чтобы адаптировать эти специализированные признаки для работы с новым набором данных, а не перезаписывать общее обучение."
      ]
    },
    {
      "cell_type": "markdown",
      "metadata": {
        "id": "CPXnzUK0QonF"
      },
      "source": [
        "### Разморозка верхних слоев модели\n"
      ]
    },
    {
      "cell_type": "markdown",
      "metadata": {
        "id": "rfxv_ifotQak"
      },
      "source": [
        "Все, что вам нужно сделать, это разморозить `base_model` и установить, что нижние слои не поддаются обучению. Затем вам следует перекомпилировать модель (необходимо, чтобы эти изменения вступили в силу) и возобновить обучение."
      ]
    },
    {
      "cell_type": "code",
      "execution_count": null,
      "metadata": {
        "id": "4nzcagVitLQm"
      },
      "outputs": [],
      "source": [
        "base_model.trainable = True"
      ]
    },
    {
      "cell_type": "code",
      "execution_count": null,
      "metadata": {
        "id": "-4HgVAacRs5v"
      },
      "outputs": [],
      "source": [
        "# Let's take a look to see how many layers are in the base model\n",
        "print(\"Number of layers in the base model: \", len(base_model.layers))\n",
        "\n",
        "# Fine-tune from this layer onwards\n",
        "fine_tune_at = 100\n",
        "\n",
        "# Freeze all the layers before the `fine_tune_at` layer\n",
        "for layer in base_model.layers[:fine_tune_at]:\n",
        "  layer.trainable = False"
      ]
    },
    {
      "cell_type": "markdown",
      "metadata": {
        "id": "4Uk1dgsxT0IS"
      },
      "source": [
        "### Скомпилируйте модель\n",
        "\n",
        "Поскольку вы тренируете гораздо более крупную модель и хотите заново адаптировать предварительно подготовленные веса, на данном этапе важно использовать более низкую скорость обучения. В противном случае ваша модель может очень быстро перестроиться."
      ]
    },
    {
      "cell_type": "code",
      "execution_count": null,
      "metadata": {
        "id": "NtUnaz0WUDva"
      },
      "outputs": [],
      "source": [
        "model.compile(loss=tf.keras.losses.BinaryCrossentropy(from_logits=True),\n",
        "              optimizer = tf.keras.optimizers.RMSprop(learning_rate=base_learning_rate/10),\n",
        "              metrics=[tf.keras.metrics.BinaryAccuracy(threshold=0, name='accuracy')])"
      ]
    },
    {
      "cell_type": "code",
      "execution_count": null,
      "metadata": {
        "id": "WwBWy7J2kZvA"
      },
      "outputs": [],
      "source": [
        "model.summary()"
      ]
    },
    {
      "cell_type": "code",
      "execution_count": null,
      "metadata": {
        "id": "bNXelbMQtonr"
      },
      "outputs": [],
      "source": [
        "len(model.trainable_variables)"
      ]
    },
    {
      "cell_type": "markdown",
      "metadata": {
        "id": "4G5O4jd6TuAG"
      },
      "source": [
        "### Продолжение обучения"
      ]
    },
    {
      "cell_type": "markdown",
      "metadata": {
        "id": "0foWUN-yDLo_"
      },
      "source": [
        "Если вы тренировались сходимости ранее, этот шаг повысит вашу точность на несколько процентных пунктов."
      ]
    },
    {
      "cell_type": "code",
      "execution_count": null,
      "metadata": {
        "id": "ECQLkAsFTlun"
      },
      "outputs": [],
      "source": [
        "fine_tune_epochs = 10\n",
        "total_epochs =  initial_epochs + fine_tune_epochs\n",
        "\n",
        "history_fine = model.fit(train_dataset,\n",
        "                         epochs=total_epochs,\n",
        "                         initial_epoch=history.epoch[-1],\n",
        "                         validation_data=validation_dataset)"
      ]
    },
    {
      "cell_type": "markdown",
      "metadata": {
        "id": "TfXEmsxQf6eP"
      },
      "source": [
        "Давайте взглянем на кривые обучения и потери точности при проверке при точной настройке последних нескольких уровней базовой модели MobileNetV2 и обучении классификатора поверх нее. Потери при проверке намного выше, чем при обучении, так что вы можете немного переобучиться.\n",
        "\n",
        "Вы также можете немного переобучиться, поскольку новый обучающий набор относительно невелик и похож на исходные наборы данных MobileNetV2."
      ]
    },
    {
      "cell_type": "markdown",
      "metadata": {
        "id": "DNtfNZKlInGT"
      },
      "source": [
        "После точной настройки модель достигает почти 98% точности в наборе для проверки."
      ]
    },
    {
      "cell_type": "code",
      "execution_count": null,
      "metadata": {
        "id": "PpA8PlpQKygw"
      },
      "outputs": [],
      "source": [
        "acc += history_fine.history['accuracy']\n",
        "val_acc += history_fine.history['val_accuracy']\n",
        "\n",
        "loss += history_fine.history['loss']\n",
        "val_loss += history_fine.history['val_loss']"
      ]
    },
    {
      "cell_type": "code",
      "execution_count": null,
      "metadata": {
        "id": "chW103JUItdk"
      },
      "outputs": [],
      "source": [
        "plt.figure(figsize=(8, 8))\n",
        "plt.subplot(2, 1, 1)\n",
        "plt.plot(acc, label='Training Accuracy')\n",
        "plt.plot(val_acc, label='Validation Accuracy')\n",
        "plt.ylim([0.8, 1])\n",
        "plt.plot([initial_epochs-1,initial_epochs-1],\n",
        "          plt.ylim(), label='Start Fine Tuning')\n",
        "plt.legend(loc='lower right')\n",
        "plt.title('Training and Validation Accuracy')\n",
        "\n",
        "plt.subplot(2, 1, 2)\n",
        "plt.plot(loss, label='Training Loss')\n",
        "plt.plot(val_loss, label='Validation Loss')\n",
        "plt.ylim([0, 1.0])\n",
        "plt.plot([initial_epochs-1,initial_epochs-1],\n",
        "         plt.ylim(), label='Start Fine Tuning')\n",
        "plt.legend(loc='upper right')\n",
        "plt.title('Training and Validation Loss')\n",
        "plt.xlabel('epoch')\n",
        "plt.show()"
      ]
    },
    {
      "cell_type": "markdown",
      "metadata": {
        "id": "R6cWgjgfrsn5"
      },
      "source": [
        "### Оценка и прогнозирование"
      ]
    },
    {
      "cell_type": "markdown",
      "metadata": {
        "id": "PSXH7PRMxOi5"
      },
      "source": [
        "Наконец, вы можете проверить производительность модели на новых данных, используя тестовый набор."
      ]
    },
    {
      "cell_type": "code",
      "execution_count": null,
      "metadata": {
        "id": "2KyNhagHwfar"
      },
      "outputs": [],
      "source": [
        "loss, accuracy = model.evaluate(test_dataset)\n",
        "print('Test accuracy :', accuracy)"
      ]
    },
    {
      "cell_type": "markdown",
      "metadata": {
        "id": "8UjS5ukZfOcR"
      },
      "source": [
        "И теперь вы готовы использовать эту модель, чтобы предсказать, является ли ваш питомец кошкой или собакой."
      ]
    },
    {
      "cell_type": "code",
      "execution_count": null,
      "metadata": {
        "id": "RUNoQNgtfNgt"
      },
      "outputs": [],
      "source": [
        "# Retrieve a batch of images from the test set\n",
        "image_batch, label_batch = test_dataset.as_numpy_iterator().next()\n",
        "predictions = model.predict_on_batch(image_batch).flatten()\n",
        "\n",
        "# Apply a sigmoid since our model returns logits\n",
        "predictions = tf.nn.sigmoid(predictions)\n",
        "predictions = tf.where(predictions < 0.5, 0, 1)\n",
        "\n",
        "print('Predictions:\\n', predictions.numpy())\n",
        "print('Labels:\\n', label_batch)\n",
        "\n",
        "plt.figure(figsize=(10, 10))\n",
        "for i in range(9):\n",
        "  ax = plt.subplot(3, 3, i + 1)\n",
        "  plt.imshow(image_batch[i].astype(\"uint8\"))\n",
        "  plt.title(class_names[predictions[i]])\n",
        "  plt.axis(\"off\")"
      ]
    },
    {
      "cell_type": "markdown",
      "source": [
        "## Задание 5\n",
        "Разморозьте верхние 20 слоев модели **MobileNet_V2** и выполните дообучение модели из Заданий 3-4. Постройте  совместные кривые истории обучения. Визиализируйте предсказания на 9 изображениях из тестового набора данных."
      ],
      "metadata": {
        "id": "if6ciVc6S7FV"
      }
    },
    {
      "cell_type": "markdown",
      "metadata": {
        "id": "_TZTwG7nhm0C"
      },
      "source": [
        "## Краткое описание\n",
        "\n",
        "* ** Использование предварительно обученной модели для извлечения признаков **: При работе с небольшим набором данных обычной практикой является использование преимуществ функций, изученных моделью, обученной на большем наборе данных в той же предметной области. Это делается путем создания экземпляра предварительно обученной модели и добавления сверху полностью подключенного классификатора. Предварительно обученная модель \"заморожена\", и во время обучения обновляются только веса классификатора.\n",
        "В этом случае сверточная база извлекла все объекты, связанные с каждым изображением, и вы просто обучили классификатор, который определяет класс изображения с учетом этого набора извлеченных объектов.\n",
        "\n",
        "* ** Точная настройка предварительно обученной модели **:\n",
        "Для дальнейшего повышения производительности может потребоваться переназначить слои верхнего уровня предварительно обученных моделей для нового набора данных с помощью точной настройки. В этом случае вы настроили свои веса таким образом, чтобы ваша модель изучала высокоуровневые функции, специфичные для набора данных. Этот метод обычно рекомендуется, когда обучающий набор данных большой и очень похож на исходный набор данных, на котором была обучена предварительно обученная модель.\n",
        "\n",
        "To learn more, visit the [Transfer learning guide](https://www.tensorflow.org/guide/keras/transfer_learning).\n"
      ]
    },
    {
      "cell_type": "code",
      "execution_count": null,
      "metadata": {
        "id": "uKIByL01da8c"
      },
      "outputs": [],
      "source": []
    }
  ],
  "metadata": {
    "accelerator": "GPU",
    "colab": {
      "private_outputs": true,
      "provenance": []
    },
    "kernelspec": {
      "display_name": "Python 3",
      "name": "python3"
    }
  },
  "nbformat": 4,
  "nbformat_minor": 0
}